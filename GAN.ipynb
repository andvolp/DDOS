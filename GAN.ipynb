{
  "cells": [
    {
      "cell_type": "code",
      "execution_count": 1,
      "metadata": {
        "id": "GlSxk1m59VpQ"
      },
      "outputs": [],
      "source": [
        "from google.colab import drive\n",
        "import pandas as pd\n",
        "import numpy as np\n",
        "import tensorflow as tf\n",
        "from tensorflow import keras\n",
        "from tensorflow.keras import layers\n",
        "from sklearn.model_selection import train_test_split\n",
        "from sklearn.preprocessing import LabelEncoder\n",
        "from tensorflow.keras.utils import to_categorical"
      ]
    },
    {
      "cell_type": "code",
      "execution_count": 2,
      "metadata": {
        "colab": {
          "base_uri": "https://localhost:8080/"
        },
        "id": "Py7Sb2Lt1csZ",
        "outputId": "e0b9d5c5-8a29-47ca-93a1-fec00ed2e78c"
      },
      "outputs": [
        {
          "name": "stdout",
          "output_type": "stream",
          "text": [
            "Mounted at /content/drive\n"
          ]
        }
      ],
      "source": [
        "drive.mount('/content/drive')\n",
        "\n",
        "df = pd.read_csv('/content/drive/MyDrive/base de dados/dataset_balanceado_limpo.csv', encoding='utf-8', sep=',')"
      ]
    },
    {
      "cell_type": "code",
      "execution_count": 3,
      "metadata": {
        "id": "PGjXhcIpCGG5"
      },
      "outputs": [],
      "source": [
        "def normalize_dataframe(df):\n",
        "    for coluna in df.columns:\n",
        "        if df[coluna].dtype != 'category':  # Verifica se a coluna é numérica\n",
        "            max_valor = df[coluna].max()\n",
        "            df[coluna] = df[coluna] / max_valor  # Divide todos os valores da coluna pelo máximo"
      ]
    },
    {
      "cell_type": "code",
      "execution_count": 4,
      "metadata": {
        "id": "NO1lukSvG6xi"
      },
      "outputs": [],
      "source": [
        "# Separe os rótulos do conjunto de dados\n",
        "labels = df[' Label']  # Substitua 'rotulo' pelo nome da coluna de rótulos\n",
        "\n",
        "# Remova a coluna de rótulos do conjunto de dados\n",
        "data = df.drop(columns=[' Label'])  # Substitua 'rotulo' pelo nome da coluna de rótulos]\n",
        "\n",
        "label_encoder = LabelEncoder()\n",
        "labels_encoded = label_encoder.fit_transform(labels)"
      ]
    },
    {
      "cell_type": "code",
      "execution_count": 5,
      "metadata": {
        "id": "i7MSv6c9DV47"
      },
      "outputs": [],
      "source": [
        "data = data.drop(columns=['Bwd Avg Bulk Rate', ' Flow Packets/s', ' Bwd Avg Packets/Bulk', ' Bwd Avg Bytes/Bulk', ' Fwd Avg Bulk Rate', ' Fwd Avg Packets/Bulk', 'Fwd Avg Bytes/Bulk', ' ECE Flag Count', ' PSH Flag Count', 'FIN Flag Count', ' Bwd URG Flags', ' Fwd URG Flags', ' Bwd PSH Flags'], axis=1)"
      ]
    },
    {
      "cell_type": "code",
      "execution_count": 6,
      "metadata": {
        "id": "oAvoU4F5EAVO"
      },
      "outputs": [],
      "source": [
        "indices_selecionados = [0, 1, 2, 3, 6, 7, 8, 9, 10, 11, 16, 17, 19, 20, 21, 22, 23, 24, 25, 26, 32, 34, 35, 36, 37, 38, 41, 43, 44, 47, 55, 56, 58, 66, 67]\n",
        "data = data.iloc[:, indices_selecionados]"
      ]
    },
    {
      "cell_type": "code",
      "execution_count": 7,
      "metadata": {
        "id": "LCrG1NF4EIPF"
      },
      "outputs": [],
      "source": [
        "normalize_dataframe(data)"
      ]
    },
    {
      "cell_type": "code",
      "execution_count": null,
      "metadata": {
        "colab": {
          "base_uri": "https://localhost:8080/"
        },
        "id": "uPopP2M-7xAB",
        "outputId": "98a7eb30-1a96-418a-d116-a17a96dd34d9"
      },
      "outputs": [],
      "source": [
        "# Defina a dimensionalidade dos dados\n",
        "data_dim = data.shape[1]\n",
        "\n",
        "# Modelo Discriminador\n",
        "discriminator = keras.Sequential([\n",
        "    layers.Reshape((35, 1), input_shape=(35,)),  # Camada de entrada com forma (35, 1)\n",
        "    layers.Conv1D(128, 16, activation='relu'),\n",
        "    layers.Conv1D(64, 8, activation='softmax'),# Primeira camada de convolução\n",
        "    layers.MaxPooling1D(2),  # Camada de max pooling\n",
        "    layers.Flatten(),  # Camada de achatamento\n",
        "    layers.Dense(1024, activation='relu'),\n",
        "    layers.Dense(1024, activation='relu'),# Camada densa intermediária\n",
        "    layers.Dense(7, activation='softmax')  # Camada de saída com ativação Softmax\n",
        "  ])\n",
        "\n",
        "discriminator.compile(loss='categorical_crossentropy', optimizer='adam', metrics=['accuracy'])\n",
        "\n",
        "# Modelo Gerador\n",
        "latent_dim = 100\n",
        "generator = keras.Sequential([\n",
        "    layers.Input(shape=(latent_dim + 7,)),  # O espaço latente mais a condição de classe\n",
        "    layers.Dense(1024, activation='relu'),\n",
        "    layers.Dense(1024, activation='relu'),\n",
        "    layers.Dense(1024, activation='relu'),\n",
        "    layers.Dense(1024, activation='relu'),\n",
        "    layers.Dense(data_dim, activation='tanh')  # A camada de saída gera os dados\n",
        "])\n",
        "\n",
        "# Modelo GAN\n",
        "discriminator.trainable = True  # Congela o discriminador durante o treinamento da GAN\n",
        "gan_input = keras.Input(shape=(latent_dim + 7,))\n",
        "x = generator(gan_input)\n",
        "gan_output = discriminator(x)\n",
        "gan = keras.models.Model(gan_input, gan_output)\n",
        "\n",
        "gan.compile(loss='categorical_crossentropy', optimizer='adam')\n",
        "\n",
        "# Hiperparâmetros do treinamento\n",
        "batch_size = 100\n",
        "epochs = 5\n",
        "\n",
        "# Treinamento da GAN condicionada\n",
        "for e in range(epochs):\n",
        "    for _ in range(len(data) // batch_size):\n",
        "        # Amostras aleatórias do espaço latente e condição de classe\n",
        "        batch_indices = np.random.choice(len(data), batch_size, replace=False)\n",
        "        batch_data = data.iloc[batch_indices]\n",
        "        batch_labels = labels_encoded[batch_indices]\n",
        "\n",
        "        noise = np.random.randn(batch_size, latent_dim)\n",
        "        class_condition = np.random.randint(0, 7, batch_size)\n",
        "        class_one_hot = keras.utils.to_categorical(class_condition, num_classes=7)\n",
        "        gan_input = np.concatenate([noise, class_one_hot], axis=1)\n",
        "\n",
        "        generated_data = generator.predict(gan_input)\n",
        "\n",
        "        # Crie um vetor de rótulos para o discriminador\n",
        "        # Um vetor de zeros para dados gerados e um vetor de uns para dados reais\n",
        "        y_dis_generated = np.zeros((batch_size, 7))\n",
        "        y_dis_real = keras.utils.to_categorical(batch_labels, num_classes=7)\n",
        "        y_dis = np.vstack([y_dis_real, y_dis_generated])\n",
        "\n",
        "        X = np.vstack([batch_data, generated_data])\n",
        "\n",
        "        discriminator.trainable = True\n",
        "        d_loss = discriminator.train_on_batch(X, y_dis)\n",
        "\n",
        "        # Agora, gere amostras condicionadas para treinar o gerador\n",
        "        noise = np.random.randn(batch_size, latent_dim)\n",
        "        class_condition = np.random.randint(0, 7, batch_size)\n",
        "        class_one_hot = keras.utils.to_categorical(class_condition, num_classes=7)\n",
        "        gan_input = np.concatenate([noise, class_one_hot], axis=1)\n",
        "\n",
        "        # Crie um vetor de rótulos para o treinamento do gerador\n",
        "        # Aqui, você deseja que o gerador pense que as amostras são reais, então os rótulos são todos 1\n",
        "        y_gen = np.ones((batch_size, 7))\n",
        "\n",
        "        discriminator.trainable = True\n",
        "        g_loss = gan.train_on_batch(gan_input, y_gen)\n",
        "\n",
        "    #if e % 1000 == 0:\n",
        "        print(f\"Época: {e}, Divergência Discriminador: {d_loss[0]}, Acurácia Discriminador: {100 * d_loss[1]:.2f}%, Divergência GAN: {g_loss}\")\n",
        "\n"
      ]
    },
    {
      "cell_type": "code",
      "execution_count": null,
      "metadata": {
        "id": "ioCsplPUHZtw"
      },
      "outputs": [],
      "source": [
        "drive.mount('/content/drive')\n",
        "\n",
        "df_teste = pd.read_csv('/content/drive/MyDrive/base de dados/dataset_teste.csv', encoding='utf-8', sep=',')"
      ]
    },
    {
      "cell_type": "code",
      "execution_count": null,
      "metadata": {
        "id": "LKLFjgB6He3v"
      },
      "outputs": [],
      "source": [
        "labels_teste = df_teste[' Label']\n",
        "\n",
        "data_teste = df_teste.drop(columns=[' Label'])\n",
        "\n",
        "label_encoder = LabelEncoder()\n",
        "labels_encoded_teste = label_encoder.fit_transform(labels_teste)\n",
        "y_teste = to_categorical(labels_encoded_teste, num_classes=7)"
      ]
    },
    {
      "cell_type": "code",
      "execution_count": null,
      "metadata": {
        "id": "W0iRdLtqHhE_"
      },
      "outputs": [],
      "source": [
        "data_teste = data_teste.drop(columns=['Bwd Avg Bulk Rate', ' Flow Packets/s', ' Bwd Avg Packets/Bulk', ' Bwd Avg Bytes/Bulk', ' Fwd Avg Bulk Rate', ' Fwd Avg Packets/Bulk', 'Fwd Avg Bytes/Bulk', ' ECE Flag Count', ' PSH Flag Count', 'FIN Flag Count', ' Bwd URG Flags', ' Fwd URG Flags', ' Bwd PSH Flags'], axis=1)\n",
        "indices_selecionados = [0, 1, 2, 3, 6, 7, 8, 9, 10, 11, 16, 17, 19, 20, 21, 22, 23, 24, 25, 26, 32, 34, 35, 36, 37, 38, 41, 43, 44, 47, 55, 56, 58, 66, 67]\n",
        "data_teste = data_teste.iloc[:, indices_selecionados]"
      ]
    },
    {
      "cell_type": "code",
      "execution_count": null,
      "metadata": {
        "id": "H_NW9S8HHjFN"
      },
      "outputs": [],
      "source": [
        "normalize_dataframe(data_teste)"
      ]
    },
    {
      "cell_type": "code",
      "execution_count": null,
      "metadata": {
        "id": "BoPfupXpQvkL"
      },
      "outputs": [],
      "source": [
        "loss, accuracy = discriminator.evaluate(data_teste, y_teste, verbose=1, steps=2000)\n",
        "\n",
        "print('Acuracia:', accuracy)\n",
        "print('loss', loss)"
      ]
    }
  ],
  "metadata": {
    "accelerator": "GPU",
    "colab": {
      "gpuType": "T4",
      "provenance": []
    },
    "kernelspec": {
      "display_name": "Python 3",
      "name": "python3"
    },
    "language_info": {
      "name": "python"
    }
  },
  "nbformat": 4,
  "nbformat_minor": 0
}
