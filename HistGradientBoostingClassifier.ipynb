{
  "nbformat": 4,
  "nbformat_minor": 0,
  "metadata": {
    "colab": {
      "provenance": []
    },
    "kernelspec": {
      "name": "python3",
      "display_name": "Python 3"
    },
    "language_info": {
      "name": "python"
    }
  },
  "cells": [
    {
      "cell_type": "code",
      "execution_count": 1,
      "metadata": {
        "id": "figTxg7XR5wd",
        "colab": {
          "base_uri": "https://localhost:8080/"
        },
        "outputId": "ca273aa3-8bd2-4743-ffe1-f42b98e9605b"
      },
      "outputs": [
        {
          "output_type": "stream",
          "name": "stderr",
          "text": [
            "/usr/local/lib/python3.10/dist-packages/sklearn/experimental/enable_hist_gradient_boosting.py:16: UserWarning: Since version 1.0, it is not needed to import enable_hist_gradient_boosting anymore. HistGradientBoostingClassifier and HistGradientBoostingRegressor are now stable and can be normally imported from sklearn.ensemble.\n",
            "  warnings.warn(\n"
          ]
        }
      ],
      "source": [
        "from sklearn.experimental import enable_hist_gradient_boosting\n",
        "from sklearn.ensemble import HistGradientBoostingClassifier\n",
        "from sklearn.model_selection import train_test_split\n",
        "from sklearn.metrics import accuracy_score\n",
        "from google.colab import drive\n",
        "import pandas as pd\n",
        "import numpy as np\n",
        "from tensorflow.keras.utils import to_categorical\n",
        "from sklearn.preprocessing import LabelEncoder\n",
        "from sklearn.metrics import confusion_matrix\n",
        "import seaborn as sns\n",
        "import matplotlib.pyplot as plt\n",
        "from sklearn.model_selection import KFold\n",
        "from sklearn.model_selection import cross_val_score\n",
        "from sklearn.inspection import permutation_importance"
      ]
    },
    {
      "cell_type": "code",
      "source": [
        "drive.mount('/content/drive')\n",
        "\n",
        "df = pd.read_csv('/content/drive/MyDrive/base de dados/dataset_balanceado_limpo.csv', encoding='utf-8', sep=',')"
      ],
      "metadata": {
        "colab": {
          "base_uri": "https://localhost:8080/"
        },
        "id": "BAbTcOR-SMt6",
        "outputId": "c2472083-28a0-4eac-fd63-ef1d1879aaac"
      },
      "execution_count": 2,
      "outputs": [
        {
          "output_type": "stream",
          "name": "stdout",
          "text": [
            "Mounted at /content/drive\n"
          ]
        }
      ]
    },
    {
      "cell_type": "code",
      "source": [
        "def normalize_dataframe(df):\n",
        "    for coluna in df.columns:\n",
        "        if df[coluna].dtype != 'category':\n",
        "            max_valor = df[coluna].max()\n",
        "            df[coluna] = df[coluna] / max_valor"
      ],
      "metadata": {
        "id": "hf3ao916SCgU"
      },
      "execution_count": 3,
      "outputs": []
    },
    {
      "cell_type": "code",
      "source": [
        "labels = df[' Label']\n",
        "\n",
        "data = df.drop(columns=[' Label'])\n",
        "\n",
        "label_encoder = LabelEncoder()\n",
        "labels_encoded = label_encoder.fit_transform(labels)"
      ],
      "metadata": {
        "id": "IhMtulkOSGEh"
      },
      "execution_count": 4,
      "outputs": []
    },
    {
      "cell_type": "code",
      "source": [
        "data = data.drop(columns=['Bwd Avg Bulk Rate', ' Flow Packets/s', ' Bwd Avg Packets/Bulk', ' Bwd Avg Bytes/Bulk', ' Fwd Avg Bulk Rate', ' Fwd Avg Packets/Bulk', 'Fwd Avg Bytes/Bulk', ' ECE Flag Count', ' PSH Flag Count', 'FIN Flag Count', ' Bwd URG Flags', ' Fwd URG Flags', ' Bwd PSH Flags'], axis=1)\n",
        "indices_selecionados = [0, 1, 2, 3, 6, 7, 8, 9, 10, 11, 16, 17, 19, 20, 21, 22, 23, 24, 25, 26, 32, 34, 35, 36, 37, 38, 41, 43, 44, 47, 55, 56, 58, 66, 67]\n",
        "data = data.iloc[:, indices_selecionados]"
      ],
      "metadata": {
        "id": "rj9061xbVkmR"
      },
      "execution_count": 5,
      "outputs": []
    },
    {
      "cell_type": "code",
      "source": [
        "normalize_dataframe(data)"
      ],
      "metadata": {
        "id": "hgEzA9U3Tcnq"
      },
      "execution_count": 6,
      "outputs": []
    },
    {
      "cell_type": "code",
      "source": [
        "X_train, X_test, y_train, y_test = train_test_split(data, labels_encoded, test_size=0.2, random_state=42)\n",
        "\n",
        "clf = HistGradientBoostingClassifier(max_iter=100, random_state=42, verbose=1)\n",
        "clf.fit(X_train, y_train)\n",
        "\n",
        "y_pred = clf.predict(X_test)\n",
        "\n",
        "accuracy = accuracy_score(y_test, y_pred)\n",
        "print(f'Accuracy on Test Set: {accuracy}')"
      ],
      "metadata": {
        "id": "X1Eqyag2SMCA",
        "colab": {
          "base_uri": "https://localhost:8080/"
        },
        "outputId": "279ecff5-051e-4e20-b9d8-86c7e982b2a5"
      },
      "execution_count": 7,
      "outputs": [
        {
          "output_type": "stream",
          "name": "stdout",
          "text": [
            "Binning 0.127 GB of training data: 1.949 s\n",
            "Binning 0.014 GB of validation data: 0.081 s\n",
            "Fitting gradient boosted rounds:\n",
            "[1/100] 7 trees, 217 leaves (31 on avg), max depth = 15, train loss: 1.33402, val loss: 1.33505, in 1.364s\n",
            "[2/100] 7 trees, 217 leaves (31 on avg), max depth = 16, train loss: 1.06236, val loss: 1.06382, in 0.757s\n",
            "[3/100] 7 trees, 217 leaves (31 on avg), max depth = 16, train loss: 0.87547, val loss: 0.87724, in 0.765s\n",
            "[4/100] 7 trees, 217 leaves (31 on avg), max depth = 17, train loss: 0.73733, val loss: 0.73935, in 0.804s\n",
            "[5/100] 7 trees, 217 leaves (31 on avg), max depth = 18, train loss: 0.63141, val loss: 0.63361, in 1.278s\n",
            "[6/100] 7 trees, 217 leaves (31 on avg), max depth = 15, train loss: 0.54844, val loss: 0.55074, in 5.896s\n",
            "[7/100] 7 trees, 217 leaves (31 on avg), max depth = 15, train loss: 0.48251, val loss: 0.48497, in 1.034s\n",
            "[8/100] 7 trees, 217 leaves (31 on avg), max depth = 16, train loss: 0.42920, val loss: 0.43185, in 1.027s\n",
            "[9/100] 7 trees, 217 leaves (31 on avg), max depth = 14, train loss: 0.38622, val loss: 0.38895, in 1.145s\n",
            "[10/100] 7 trees, 217 leaves (31 on avg), max depth = 15, train loss: 0.35120, val loss: 0.35401, in 3.064s\n",
            "[11/100] 7 trees, 217 leaves (31 on avg), max depth = 15, train loss: 0.32258, val loss: 0.32540, in 2.046s\n",
            "[12/100] 7 trees, 217 leaves (31 on avg), max depth = 13, train loss: 0.29909, val loss: 0.30195, in 7.310s\n",
            "[13/100] 7 trees, 217 leaves (31 on avg), max depth = 15, train loss: 0.27971, val loss: 0.28259, in 1.059s\n",
            "[14/100] 7 trees, 217 leaves (31 on avg), max depth = 16, train loss: 0.26366, val loss: 0.26660, in 0.795s\n",
            "[15/100] 7 trees, 217 leaves (31 on avg), max depth = 16, train loss: 0.25033, val loss: 0.25335, in 0.785s\n",
            "[16/100] 7 trees, 217 leaves (31 on avg), max depth = 13, train loss: 0.23922, val loss: 0.24235, in 0.804s\n",
            "[17/100] 7 trees, 217 leaves (31 on avg), max depth = 15, train loss: 0.22996, val loss: 0.23314, in 0.796s\n",
            "[18/100] 7 trees, 217 leaves (31 on avg), max depth = 16, train loss: 0.22222, val loss: 0.22547, in 3.237s\n",
            "[19/100] 7 trees, 217 leaves (31 on avg), max depth = 19, train loss: 0.21571, val loss: 0.21906, in 8.668s\n",
            "[20/100] 7 trees, 217 leaves (31 on avg), max depth = 15, train loss: 0.21022, val loss: 0.21362, in 5.417s\n",
            "[21/100] 7 trees, 217 leaves (31 on avg), max depth = 15, train loss: 0.20554, val loss: 0.20906, in 3.564s\n",
            "[22/100] 7 trees, 217 leaves (31 on avg), max depth = 15, train loss: 0.20156, val loss: 0.20517, in 2.091s\n",
            "[23/100] 7 trees, 217 leaves (31 on avg), max depth = 14, train loss: 0.19818, val loss: 0.20188, in 6.287s\n",
            "[24/100] 7 trees, 217 leaves (31 on avg), max depth = 15, train loss: 0.19529, val loss: 0.19909, in 2.019s\n",
            "[25/100] 7 trees, 217 leaves (31 on avg), max depth = 16, train loss: 0.19280, val loss: 0.19669, in 0.810s\n",
            "[26/100] 7 trees, 217 leaves (31 on avg), max depth = 13, train loss: 0.19066, val loss: 0.19468, in 0.826s\n",
            "[27/100] 7 trees, 217 leaves (31 on avg), max depth = 15, train loss: 0.18879, val loss: 0.19293, in 1.431s\n",
            "[28/100] 7 trees, 217 leaves (31 on avg), max depth = 13, train loss: 0.18748, val loss: 0.19180, in 2.314s\n",
            "[29/100] 7 trees, 217 leaves (31 on avg), max depth = 14, train loss: 0.18662, val loss: 0.19014, in 0.916s\n",
            "[30/100] 7 trees, 217 leaves (31 on avg), max depth = 14, train loss: 0.18904, val loss: 0.19254, in 0.812s\n",
            "[31/100] 7 trees, 217 leaves (31 on avg), max depth = 15, train loss: 0.18770, val loss: 0.19150, in 0.785s\n",
            "[32/100] 7 trees, 217 leaves (31 on avg), max depth = 14, train loss: 0.18594, val loss: 0.18926, in 3.579s\n",
            "[33/100] 7 trees, 217 leaves (31 on avg), max depth = 12, train loss: 0.18247, val loss: 0.18785, in 2.862s\n",
            "[34/100] 7 trees, 217 leaves (31 on avg), max depth = 17, train loss: 0.18234, val loss: 0.18814, in 1.054s\n",
            "[35/100] 7 trees, 217 leaves (31 on avg), max depth = 14, train loss: 0.18138, val loss: 0.18682, in 0.835s\n",
            "[36/100] 7 trees, 217 leaves (31 on avg), max depth = 13, train loss: 0.18063, val loss: 0.18629, in 0.802s\n",
            "[37/100] 7 trees, 217 leaves (31 on avg), max depth = 15, train loss: 0.18316, val loss: 0.18899, in 0.783s\n",
            "[38/100] 7 trees, 217 leaves (31 on avg), max depth = 12, train loss: 0.18530, val loss: 0.18927, in 0.804s\n",
            "[39/100] 7 trees, 217 leaves (31 on avg), max depth = 15, train loss: 0.18693, val loss: 0.19394, in 0.811s\n",
            "[40/100] 7 trees, 217 leaves (31 on avg), max depth = 13, train loss: 0.18343, val loss: 0.18764, in 0.795s\n",
            "[41/100] 7 trees, 217 leaves (31 on avg), max depth = 14, train loss: 0.18402, val loss: 0.18698, in 0.793s\n",
            "[42/100] 7 trees, 217 leaves (31 on avg), max depth = 13, train loss: 0.18565, val loss: 0.18952, in 0.801s\n",
            "[43/100] 7 trees, 217 leaves (31 on avg), max depth = 15, train loss: 0.21350, val loss: 0.25622, in 0.798s\n",
            "[44/100] 7 trees, 217 leaves (31 on avg), max depth = 12, train loss: 0.42482, val loss: 0.41845, in 0.803s\n",
            "[45/100] 7 trees, 217 leaves (31 on avg), max depth = 13, train loss: 0.31530, val loss: 0.30162, in 0.829s\n",
            "[46/100] 7 trees, 217 leaves (31 on avg), max depth = 14, train loss: 0.23652, val loss: 0.20783, in 1.290s\n",
            "Fit 322 trees in 90.333 s, (9982 total leaves)\n",
            "Time spent computing histograms: 48.070s\n",
            "Time spent finding best splits:  10.335s\n",
            "Time spent applying splits:      14.528s\n",
            "Time spent predicting:           0.975s\n",
            "Accuracy on Test Set: 0.8997581851156575\n"
          ]
        }
      ]
    },
    {
      "cell_type": "code",
      "source": [
        "num_folds = 10\n",
        "\n",
        "clf = HistGradientBoostingClassifier(max_iter=100, random_state=42, verbose=1)\n",
        "\n",
        "kf = KFold(n_splits=num_folds, shuffle=True, random_state=42)\n",
        "\n",
        "scores = cross_val_score(clf, data, labels_encoded, cv=kf, scoring='accuracy')\n",
        "\n",
        "print(f'Acurácia para cada fold: {scores}')\n",
        "print(f'Acurácia média: {np.mean(scores)}')"
      ],
      "metadata": {
        "colab": {
          "base_uri": "https://localhost:8080/"
        },
        "id": "NtHA7FiQWIms",
        "outputId": "cda2d0b9-a15c-4ffe-f8ba-356dc6289925"
      },
      "execution_count": null,
      "outputs": [
        {
          "output_type": "stream",
          "name": "stdout",
          "text": [
            "Binning 0.120 GB of training data: 5.347 s\n",
            "Binning 0.013 GB of validation data: 0.085 s\n",
            "Fitting gradient boosted rounds:\n",
            "[1/100] 6 trees, 186 leaves (31 on avg), max depth = 12, train loss: 1.26249, val loss: 1.26254, in 0.644s\n",
            "[2/100] 6 trees, 186 leaves (31 on avg), max depth = 12, train loss: 1.01934, val loss: 1.01953, in 0.722s\n",
            "[3/100] 6 trees, 186 leaves (31 on avg), max depth = 14, train loss: 0.84892, val loss: 0.84910, in 0.752s\n",
            "[4/100] 6 trees, 186 leaves (31 on avg), max depth = 12, train loss: 0.72202, val loss: 0.72224, in 0.770s\n",
            "[5/100] 6 trees, 186 leaves (31 on avg), max depth = 12, train loss: 0.62428, val loss: 0.62451, in 0.702s\n",
            "[6/100] 6 trees, 186 leaves (31 on avg), max depth = 13, train loss: 0.54755, val loss: 0.54777, in 0.677s\n",
            "[7/100] 6 trees, 186 leaves (31 on avg), max depth = 13, train loss: 0.48630, val loss: 0.48652, in 0.769s\n",
            "[8/100] 6 trees, 186 leaves (31 on avg), max depth = 13, train loss: 0.43712, val loss: 0.43733, in 0.749s\n",
            "[9/100] 6 trees, 186 leaves (31 on avg), max depth = 12, train loss: 0.39726, val loss: 0.39748, in 0.753s\n",
            "[10/100] 6 trees, 186 leaves (31 on avg), max depth = 12, train loss: 0.36485, val loss: 0.36505, in 0.665s\n",
            "[11/100] 6 trees, 186 leaves (31 on avg), max depth = 14, train loss: 0.33826, val loss: 0.33846, in 0.661s\n",
            "[12/100] 6 trees, 186 leaves (31 on avg), max depth = 15, train loss: 0.31640, val loss: 0.31661, in 0.743s\n",
            "[13/100] 6 trees, 186 leaves (31 on avg), max depth = 15, train loss: 0.29839, val loss: 0.29862, in 0.815s\n",
            "[14/100] 6 trees, 186 leaves (31 on avg), max depth = 15, train loss: 0.28347, val loss: 0.28373, in 2.438s\n",
            "[15/100] 6 trees, 186 leaves (31 on avg), max depth = 13, train loss: 0.27107, val loss: 0.27136, in 2.219s\n",
            "[16/100] 6 trees, 186 leaves (31 on avg), max depth = 15, train loss: 0.26073, val loss: 0.26106, in 0.988s\n",
            "[17/100] 6 trees, 186 leaves (31 on avg), max depth = 15, train loss: 0.25208, val loss: 0.25246, in 0.663s\n",
            "[18/100] 6 trees, 186 leaves (31 on avg), max depth = 14, train loss: 0.24481, val loss: 0.24523, in 0.725s\n",
            "[19/100] 6 trees, 186 leaves (31 on avg), max depth = 15, train loss: 0.23871, val loss: 0.23920, in 0.653s\n",
            "[20/100] 6 trees, 186 leaves (31 on avg), max depth = 15, train loss: 0.23353, val loss: 0.23411, in 0.571s\n",
            "[21/100] 6 trees, 186 leaves (31 on avg), max depth = 13, train loss: 0.22916, val loss: 0.22980, in 0.622s\n",
            "[22/100] 6 trees, 186 leaves (31 on avg), max depth = 14, train loss: 0.22543, val loss: 0.22614, in 0.646s\n",
            "[23/100] 6 trees, 186 leaves (31 on avg), max depth = 12, train loss: 0.22223, val loss: 0.22303, in 0.691s\n",
            "[24/100] 6 trees, 186 leaves (31 on avg), max depth = 17, train loss: 0.21952, val loss: 0.22040, in 0.658s\n",
            "[25/100] 6 trees, 186 leaves (31 on avg), max depth = 14, train loss: 0.21717, val loss: 0.21809, in 0.662s\n",
            "[26/100] 6 trees, 186 leaves (31 on avg), max depth = 12, train loss: 0.21513, val loss: 0.21613, in 0.679s\n",
            "[27/100] 6 trees, 186 leaves (31 on avg), max depth = 13, train loss: 0.21338, val loss: 0.21447, in 0.631s\n",
            "[28/100] 6 trees, 186 leaves (31 on avg), max depth = 14, train loss: 0.21191, val loss: 0.21307, in 0.556s\n",
            "[29/100] 6 trees, 186 leaves (31 on avg), max depth = 14, train loss: 0.21057, val loss: 0.21177, in 0.647s\n",
            "[30/100] 6 trees, 186 leaves (31 on avg), max depth = 14, train loss: 0.20941, val loss: 0.21068, in 0.666s\n",
            "[31/100] 6 trees, 186 leaves (31 on avg), max depth = 17, train loss: 0.20836, val loss: 0.20972, in 0.758s\n",
            "[32/100] 6 trees, 186 leaves (31 on avg), max depth = 15, train loss: 0.20747, val loss: 0.20890, in 1.668s\n",
            "[33/100] 6 trees, 186 leaves (31 on avg), max depth = 15, train loss: 0.20667, val loss: 0.20817, in 2.628s\n",
            "[34/100] 6 trees, 186 leaves (31 on avg), max depth = 15, train loss: 0.20597, val loss: 0.20754, in 1.109s\n",
            "[35/100] 6 trees, 186 leaves (31 on avg), max depth = 13, train loss: 0.20535, val loss: 0.20697, in 0.721s\n",
            "[36/100] 6 trees, 186 leaves (31 on avg), max depth = 13, train loss: 0.20517, val loss: 0.20744, in 0.705s\n",
            "[37/100] 6 trees, 186 leaves (31 on avg), max depth = 13, train loss: 0.20517, val loss: 0.20823, in 0.683s\n",
            "[38/100] 6 trees, 186 leaves (31 on avg), max depth = 19, train loss: 0.20767, val loss: 0.20635, in 0.717s\n",
            "[39/100] 6 trees, 186 leaves (31 on avg), max depth = 12, train loss: 0.20878, val loss: 0.20650, in 0.708s\n",
            "[40/100] 6 trees, 186 leaves (31 on avg), max depth = 11, train loss: 0.20953, val loss: 0.20681, in 0.700s\n",
            "[41/100] 6 trees, 186 leaves (31 on avg), max depth = 13, train loss: 0.21066, val loss: 0.21161, in 0.713s\n",
            "[42/100] 6 trees, 186 leaves (31 on avg), max depth = 18, train loss: 0.21989, val loss: 0.21833, in 0.703s\n",
            "[43/100] 6 trees, 186 leaves (31 on avg), max depth = 15, train loss: 0.21207, val loss: 0.21009, in 0.659s\n",
            "[44/100] 6 trees, 186 leaves (31 on avg), max depth = 14, train loss: 0.21741, val loss: 0.21505, in 0.600s\n",
            "[45/100] 6 trees, 186 leaves (31 on avg), max depth = 14, train loss: 0.24289, val loss: 0.24722, in 0.654s\n",
            "[46/100] 6 trees, 186 leaves (31 on avg), max depth = 14, train loss: 0.21531, val loss: 0.22163, in 0.637s\n",
            "[47/100] 6 trees, 186 leaves (31 on avg), max depth = 14, train loss: 0.21885, val loss: 0.23182, in 0.619s\n",
            "[48/100] 6 trees, 186 leaves (31 on avg), max depth = 17, train loss: 0.23068, val loss: 0.21888, in 0.650s\n",
            "Fit 288 trees in 48.814 s, (8928 total leaves)\n",
            "Time spent computing histograms: 24.154s\n",
            "Time spent finding best splits:  1.985s\n",
            "Time spent applying splits:      4.668s\n",
            "Time spent predicting:           0.575s\n",
            "Binning 0.120 GB of training data: 1.934 s\n",
            "Binning 0.013 GB of validation data: 0.067 s\n",
            "Fitting gradient boosted rounds:\n",
            "[1/100] 6 trees, 186 leaves (31 on avg), max depth = 12, train loss: 1.26232, val loss: 1.26184, in 0.609s\n",
            "[2/100] 6 trees, 186 leaves (31 on avg), max depth = 12, train loss: 1.01913, val loss: 1.01835, in 0.658s\n",
            "[3/100] 6 trees, 186 leaves (31 on avg), max depth = 12, train loss: 0.84865, val loss: 0.84766, in 0.663s\n",
            "[4/100] 6 trees, 186 leaves (31 on avg), max depth = 13, train loss: 0.72166, val loss: 0.72050, in 0.715s\n",
            "[5/100] 6 trees, 186 leaves (31 on avg), max depth = 13, train loss: 0.62392, val loss: 0.62266, in 0.684s\n",
            "[6/100] 6 trees, 186 leaves (31 on avg), max depth = 13, train loss: 0.54718, val loss: 0.54584, in 0.713s\n",
            "[7/100] 6 trees, 186 leaves (31 on avg), max depth = 13, train loss: 0.48594, val loss: 0.48458, in 0.711s\n",
            "[8/100] 6 trees, 186 leaves (31 on avg), max depth = 14, train loss: 0.43678, val loss: 0.43537, in 0.749s\n",
            "[9/100] 6 trees, 186 leaves (31 on avg), max depth = 14, train loss: 0.39697, val loss: 0.39554, in 0.779s\n",
            "[10/100] 6 trees, 186 leaves (31 on avg), max depth = 14, train loss: 0.36451, val loss: 0.36306, in 0.752s\n",
            "[11/100] 6 trees, 186 leaves (31 on avg), max depth = 14, train loss: 0.33791, val loss: 0.33644, in 0.718s\n",
            "[12/100] 6 trees, 186 leaves (31 on avg), max depth = 15, train loss: 0.31607, val loss: 0.31461, in 0.621s\n",
            "[13/100] 6 trees, 186 leaves (31 on avg), max depth = 15, train loss: 0.29805, val loss: 0.29663, in 0.628s\n",
            "[14/100] 6 trees, 186 leaves (31 on avg), max depth = 14, train loss: 0.28311, val loss: 0.28172, in 0.953s\n",
            "[15/100] 6 trees, 186 leaves (31 on avg), max depth = 14, train loss: 0.27070, val loss: 0.26937, in 3.736s\n",
            "[16/100] 6 trees, 186 leaves (31 on avg), max depth = 13, train loss: 0.26034, val loss: 0.25904, in 1.159s\n",
            "[17/100] 6 trees, 186 leaves (31 on avg), max depth = 15, train loss: 0.25169, val loss: 0.25040, in 1.391s\n",
            "[18/100] 6 trees, 186 leaves (31 on avg), max depth = 14, train loss: 0.24443, val loss: 0.24319, in 0.691s\n",
            "[19/100] 6 trees, 186 leaves (31 on avg), max depth = 16, train loss: 0.23832, val loss: 0.23712, in 0.709s\n",
            "[20/100] 6 trees, 186 leaves (31 on avg), max depth = 16, train loss: 0.23314, val loss: 0.23198, in 0.699s\n",
            "[21/100] 6 trees, 186 leaves (31 on avg), max depth = 13, train loss: 0.22877, val loss: 0.22765, in 0.654s\n",
            "[22/100] 6 trees, 186 leaves (31 on avg), max depth = 14, train loss: 0.22505, val loss: 0.22398, in 0.677s\n",
            "[23/100] 6 trees, 186 leaves (31 on avg), max depth = 14, train loss: 0.22186, val loss: 0.22085, in 0.695s\n",
            "[24/100] 6 trees, 186 leaves (31 on avg), max depth = 14, train loss: 0.21911, val loss: 0.21816, in 0.658s\n",
            "[25/100] 6 trees, 186 leaves (31 on avg), max depth = 13, train loss: 0.21677, val loss: 0.21585, in 0.633s\n",
            "[26/100] 6 trees, 186 leaves (31 on avg), max depth = 16, train loss: 0.21472, val loss: 0.21389, in 0.682s\n",
            "[27/100] 6 trees, 186 leaves (31 on avg), max depth = 14, train loss: 0.21297, val loss: 0.21221, in 0.662s\n",
            "[28/100] 6 trees, 186 leaves (31 on avg), max depth = 17, train loss: 0.21144, val loss: 0.21076, in 0.674s\n",
            "[29/100] 6 trees, 186 leaves (31 on avg), max depth = 15, train loss: 0.21011, val loss: 0.20948, in 0.680s\n",
            "[30/100] 6 trees, 186 leaves (31 on avg), max depth = 18, train loss: 0.20914, val loss: 0.20837, in 1.819s\n",
            "[31/100] 6 trees, 186 leaves (31 on avg), max depth = 18, train loss: 0.20792, val loss: 0.20743, in 2.455s\n",
            "[32/100] 6 trees, 186 leaves (31 on avg), max depth = 13, train loss: 0.20702, val loss: 0.20658, in 1.673s\n",
            "[33/100] 6 trees, 186 leaves (31 on avg), max depth = 14, train loss: 0.20623, val loss: 0.20584, in 0.752s\n",
            "[34/100] 6 trees, 186 leaves (31 on avg), max depth = 16, train loss: 0.20551, val loss: 0.20518, in 0.721s\n",
            "[35/100] 6 trees, 186 leaves (31 on avg), max depth = 14, train loss: 0.20487, val loss: 0.20461, in 0.718s\n",
            "[36/100] 6 trees, 186 leaves (31 on avg), max depth = 15, train loss: 0.20432, val loss: 0.20410, in 0.811s\n",
            "[37/100] 6 trees, 186 leaves (31 on avg), max depth = 13, train loss: 0.20383, val loss: 0.20366, in 2.154s\n",
            "[38/100] 6 trees, 186 leaves (31 on avg), max depth = 14, train loss: 0.20338, val loss: 0.20327, in 2.403s\n",
            "[39/100] 6 trees, 186 leaves (31 on avg), max depth = 13, train loss: 0.20430, val loss: 0.20342, in 1.053s\n",
            "[40/100] 6 trees, 186 leaves (31 on avg), max depth = 15, train loss: 0.21872, val loss: 0.20264, in 0.616s\n",
            "[41/100] 6 trees, 186 leaves (31 on avg), max depth = 15, train loss: 0.22020, val loss: 0.20237, in 0.568s\n",
            "[42/100] 6 trees, 186 leaves (31 on avg), max depth = 14, train loss: 0.22029, val loss: 0.20313, in 1.045s\n",
            "[43/100] 6 trees, 186 leaves (31 on avg), max depth = 16, train loss: 0.21701, val loss: 0.20219, in 2.386s\n",
            "[44/100] 6 trees, 186 leaves (31 on avg), max depth = 16, train loss: 0.21964, val loss: 0.20821, in 2.231s\n",
            "[45/100] 6 trees, 186 leaves (31 on avg), max depth = 18, train loss: 0.22207, val loss: 0.20158, in 0.612s\n",
            "[46/100] 6 trees, 186 leaves (31 on avg), max depth = 13, train loss: 0.22441, val loss: 0.20436, in 0.558s\n",
            "[47/100] 6 trees, 186 leaves (31 on avg), max depth = 17, train loss: 0.27801, val loss: 0.22979, in 0.630s\n",
            "[48/100] 6 trees, 186 leaves (31 on avg), max depth = 17, train loss: 0.33216, val loss: 0.26588, in 0.589s\n",
            "[49/100] 6 trees, 186 leaves (31 on avg), max depth = 15, train loss: 0.26323, val loss: 0.24596, in 0.614s\n",
            "[50/100] 6 trees, 186 leaves (31 on avg), max depth = 14, train loss: 0.32284, val loss: 0.29752, in 0.678s\n",
            "[51/100] 6 trees, 186 leaves (31 on avg), max depth = 16, train loss: 0.32453, val loss: 0.37057, in 0.629s\n",
            "[52/100] 6 trees, 186 leaves (31 on avg), max depth = 18, train loss: 0.34159, val loss: 0.45220, in 0.568s\n",
            "[53/100] 6 trees, 186 leaves (31 on avg), max depth = 13, train loss: 1.15488, val loss: 1.16773, in 0.542s\n",
            "[54/100] 6 trees, 186 leaves (31 on avg), max depth = 12, train loss: 1.00918, val loss: 0.96260, in 0.563s\n",
            "[55/100] 6 trees, 186 leaves (31 on avg), max depth = 17, train loss: 1.70402, val loss: 1.71297, in 0.572s\n",
            "Fit 330 trees in 55.440 s, (10230 total leaves)\n",
            "Time spent computing histograms: 31.040s\n",
            "Time spent finding best splits:  3.779s\n",
            "Time spent applying splits:      6.763s\n",
            "Time spent predicting:           0.759s\n",
            "Binning 0.120 GB of training data: 2.119 s\n",
            "Binning 0.013 GB of validation data: 0.201 s\n",
            "Fitting gradient boosted rounds:\n",
            "[1/100] 6 trees, 186 leaves (31 on avg), max depth = 12, train loss: 1.26222, val loss: 1.26183, in 2.773s\n",
            "[2/100] 6 trees, 186 leaves (31 on avg), max depth = 12, train loss: 1.01913, val loss: 1.01851, in 1.764s\n",
            "[3/100] 6 trees, 186 leaves (31 on avg), max depth = 11, train loss: 0.84873, val loss: 0.84796, in 0.687s\n",
            "[4/100] 6 trees, 186 leaves (31 on avg), max depth = 11, train loss: 0.72181, val loss: 0.72089, in 0.729s\n",
            "[5/100] 6 trees, 186 leaves (31 on avg), max depth = 11, train loss: 0.62411, val loss: 0.62308, in 0.700s\n",
            "[6/100] 6 trees, 186 leaves (31 on avg), max depth = 10, train loss: 0.54742, val loss: 0.54624, in 0.714s\n",
            "[7/100] 6 trees, 186 leaves (31 on avg), max depth = 13, train loss: 0.48621, val loss: 0.48499, in 0.747s\n",
            "[8/100] 6 trees, 186 leaves (31 on avg), max depth = 13, train loss: 0.43703, val loss: 0.43578, in 0.732s\n",
            "[9/100] 6 trees, 186 leaves (31 on avg), max depth = 13, train loss: 0.39719, val loss: 0.39591, in 0.772s\n",
            "[10/100] 6 trees, 186 leaves (31 on avg), max depth = 14, train loss: 0.36476, val loss: 0.36341, in 0.730s\n",
            "[11/100] 6 trees, 186 leaves (31 on avg), max depth = 14, train loss: 0.33821, val loss: 0.33681, in 0.654s\n",
            "[12/100] 6 trees, 186 leaves (31 on avg), max depth = 14, train loss: 0.31637, val loss: 0.31498, in 0.621s\n",
            "[13/100] 6 trees, 186 leaves (31 on avg), max depth = 16, train loss: 0.29836, val loss: 0.29696, in 0.703s\n",
            "[14/100] 6 trees, 186 leaves (31 on avg), max depth = 14, train loss: 0.28343, val loss: 0.28204, in 0.658s\n",
            "[15/100] 6 trees, 186 leaves (31 on avg), max depth = 15, train loss: 0.27102, val loss: 0.26964, in 0.694s\n",
            "[16/100] 6 trees, 186 leaves (31 on avg), max depth = 15, train loss: 0.26068, val loss: 0.25930, in 0.688s\n",
            "[17/100] 6 trees, 186 leaves (31 on avg), max depth = 14, train loss: 0.25203, val loss: 0.25067, in 1.837s\n",
            "[18/100] 6 trees, 186 leaves (31 on avg), max depth = 14, train loss: 0.24478, val loss: 0.24346, in 2.820s\n",
            "[19/100] 6 trees, 186 leaves (31 on avg), max depth = 14, train loss: 0.23869, val loss: 0.23740, in 1.147s\n",
            "[20/100] 6 trees, 186 leaves (31 on avg), max depth = 17, train loss: 0.23352, val loss: 0.23227, in 0.692s\n",
            "[21/100] 6 trees, 186 leaves (31 on avg), max depth = 18, train loss: 0.22914, val loss: 0.22794, in 0.713s\n",
            "[22/100] 6 trees, 186 leaves (31 on avg), max depth = 17, train loss: 0.22540, val loss: 0.22427, in 0.621s\n",
            "[23/100] 6 trees, 186 leaves (31 on avg), max depth = 14, train loss: 0.22221, val loss: 0.22112, in 0.660s\n",
            "[24/100] 6 trees, 186 leaves (31 on avg), max depth = 15, train loss: 0.21947, val loss: 0.21842, in 0.644s\n",
            "[25/100] 6 trees, 186 leaves (31 on avg), max depth = 14, train loss: 0.21711, val loss: 0.21613, in 0.675s\n",
            "[26/100] 6 trees, 186 leaves (31 on avg), max depth = 13, train loss: 0.21509, val loss: 0.21417, in 0.662s\n",
            "[27/100] 6 trees, 186 leaves (31 on avg), max depth = 15, train loss: 0.21334, val loss: 0.21250, in 0.656s\n",
            "[28/100] 6 trees, 186 leaves (31 on avg), max depth = 16, train loss: 0.21180, val loss: 0.21105, in 0.668s\n",
            "[29/100] 6 trees, 186 leaves (31 on avg), max depth = 15, train loss: 0.21047, val loss: 0.20979, in 0.675s\n",
            "[30/100] 6 trees, 186 leaves (31 on avg), max depth = 13, train loss: 0.20929, val loss: 0.20867, in 0.590s\n",
            "[31/100] 6 trees, 186 leaves (31 on avg), max depth = 14, train loss: 0.20825, val loss: 0.20770, in 0.655s\n",
            "[32/100] 6 trees, 186 leaves (31 on avg), max depth = 15, train loss: 0.20736, val loss: 0.20688, in 0.643s\n",
            "[33/100] 6 trees, 186 leaves (31 on avg), max depth = 14, train loss: 0.20656, val loss: 0.20615, in 0.615s\n",
            "[34/100] 6 trees, 186 leaves (31 on avg), max depth = 14, train loss: 0.20587, val loss: 0.20552, in 0.826s\n",
            "[35/100] 6 trees, 186 leaves (31 on avg), max depth = 14, train loss: 0.20525, val loss: 0.20496, in 2.365s\n",
            "[36/100] 6 trees, 186 leaves (31 on avg), max depth = 14, train loss: 0.20469, val loss: 0.20445, in 2.245s\n",
            "[37/100] 6 trees, 186 leaves (31 on avg), max depth = 14, train loss: 0.20486, val loss: 0.20557, in 0.889s\n",
            "[38/100] 6 trees, 186 leaves (31 on avg), max depth = 17, train loss: 0.20467, val loss: 0.20364, in 0.689s\n",
            "[39/100] 6 trees, 186 leaves (31 on avg), max depth = 15, train loss: 0.20538, val loss: 0.20333, in 0.656s\n",
            "[40/100] 6 trees, 186 leaves (31 on avg), max depth = 15, train loss: 0.20392, val loss: 0.20328, in 0.706s\n",
            "[41/100] 6 trees, 186 leaves (31 on avg), max depth = 16, train loss: 0.21464, val loss: 0.22103, in 0.679s\n",
            "[42/100] 6 trees, 186 leaves (31 on avg), max depth = 15, train loss: 0.20369, val loss: 0.21466, in 0.659s\n",
            "[43/100] 6 trees, 186 leaves (31 on avg), max depth = 15, train loss: 0.20279, val loss: 0.21443, in 0.655s\n",
            "[44/100] 6 trees, 186 leaves (31 on avg), max depth = 13, train loss: 0.20252, val loss: 0.21423, in 0.667s\n",
            "[45/100] 6 trees, 186 leaves (31 on avg), max depth = 16, train loss: 0.20756, val loss: 0.21937, in 0.638s\n",
            "[46/100] 6 trees, 186 leaves (31 on avg), max depth = 18, train loss: 0.20717, val loss: 0.22111, in 0.799s\n",
            "[47/100] 6 trees, 186 leaves (31 on avg), max depth = 16, train loss: 0.20572, val loss: 0.22265, in 0.715s\n",
            "[48/100] 6 trees, 186 leaves (31 on avg), max depth = 14, train loss: 0.20120, val loss: 0.21550, in 0.666s\n",
            "[49/100] 6 trees, 186 leaves (31 on avg), max depth = 18, train loss: 0.20089, val loss: 0.21521, in 0.648s\n",
            "[50/100] 6 trees, 186 leaves (31 on avg), max depth = 14, train loss: 0.20071, val loss: 0.21507, in 0.592s\n",
            "Fit 300 trees in 47.681 s, (9300 total leaves)\n",
            "Time spent computing histograms: 26.563s\n",
            "Time spent finding best splits:  2.894s\n",
            "Time spent applying splits:      5.459s\n",
            "Time spent predicting:           0.684s\n",
            "Binning 0.120 GB of training data: 2.821 s\n",
            "Binning 0.013 GB of validation data: 0.273 s\n",
            "Fitting gradient boosted rounds:\n",
            "[1/100] 6 trees, 183 leaves (30 on avg), max depth = 13, train loss: 1.26235, val loss: 1.26274, in 1.004s\n",
            "[2/100] 6 trees, 186 leaves (31 on avg), max depth = 11, train loss: 1.01922, val loss: 1.01972, in 0.713s\n",
            "[3/100] 6 trees, 186 leaves (31 on avg), max depth = 11, train loss: 0.84875, val loss: 0.84934, in 0.698s\n",
            "[4/100] 6 trees, 186 leaves (31 on avg), max depth = 11, train loss: 0.72177, val loss: 0.72244, in 0.714s\n",
            "[5/100] 6 trees, 186 leaves (31 on avg), max depth = 12, train loss: 0.62405, val loss: 0.62476, in 0.673s\n",
            "[6/100] 6 trees, 186 leaves (31 on avg), max depth = 12, train loss: 0.54733, val loss: 0.54807, in 0.735s\n",
            "[7/100] 6 trees, 186 leaves (31 on avg), max depth = 12, train loss: 0.48617, val loss: 0.48696, in 0.792s\n",
            "[8/100] 6 trees, 186 leaves (31 on avg), max depth = 12, train loss: 0.43700, val loss: 0.43787, in 0.741s\n",
            "[9/100] 6 trees, 186 leaves (31 on avg), max depth = 15, train loss: 0.39713, val loss: 0.39802, in 0.740s\n",
            "[10/100] 6 trees, 186 leaves (31 on avg), max depth = 14, train loss: 0.36465, val loss: 0.36557, in 0.695s\n",
            "[11/100] 6 trees, 186 leaves (31 on avg), max depth = 15, train loss: 0.33806, val loss: 0.33905, in 0.700s\n",
            "[12/100] 6 trees, 186 leaves (31 on avg), max depth = 14, train loss: 0.31623, val loss: 0.31726, in 0.638s\n",
            "[13/100] 6 trees, 186 leaves (31 on avg), max depth = 15, train loss: 0.29821, val loss: 0.29929, in 0.605s\n",
            "[14/100] 6 trees, 186 leaves (31 on avg), max depth = 15, train loss: 0.28328, val loss: 0.28440, in 1.032s\n",
            "[15/100] 6 trees, 186 leaves (31 on avg), max depth = 14, train loss: 0.27087, val loss: 0.27208, in 1.737s\n",
            "[16/100] 6 trees, 186 leaves (31 on avg), max depth = 14, train loss: 0.26053, val loss: 0.26178, in 3.700s\n",
            "[17/100] 6 trees, 186 leaves (31 on avg), max depth = 14, train loss: 0.25187, val loss: 0.25317, in 0.707s\n",
            "[18/100] 6 trees, 186 leaves (31 on avg), max depth = 16, train loss: 0.24461, val loss: 0.24596, in 0.700s\n",
            "[19/100] 6 trees, 186 leaves (31 on avg), max depth = 13, train loss: 0.23850, val loss: 0.23989, in 0.681s\n",
            "[20/100] 6 trees, 186 leaves (31 on avg), max depth = 14, train loss: 0.23332, val loss: 0.23481, in 0.629s\n",
            "[21/100] 6 trees, 186 leaves (31 on avg), max depth = 16, train loss: 0.22894, val loss: 0.23049, in 0.582s\n",
            "[22/100] 6 trees, 186 leaves (31 on avg), max depth = 13, train loss: 0.22520, val loss: 0.22681, in 0.708s\n",
            "[23/100] 6 trees, 186 leaves (31 on avg), max depth = 14, train loss: 0.22199, val loss: 0.22370, in 0.713s\n",
            "[24/100] 6 trees, 186 leaves (31 on avg), max depth = 14, train loss: 0.21925, val loss: 0.22104, in 0.684s\n",
            "[25/100] 6 trees, 186 leaves (31 on avg), max depth = 15, train loss: 0.21691, val loss: 0.21878, in 0.635s\n",
            "[26/100] 6 trees, 186 leaves (31 on avg), max depth = 13, train loss: 0.21489, val loss: 0.21679, in 0.673s\n",
            "[27/100] 6 trees, 186 leaves (31 on avg), max depth = 14, train loss: 0.21314, val loss: 0.21511, in 0.646s\n",
            "[28/100] 6 trees, 186 leaves (31 on avg), max depth = 13, train loss: 0.21161, val loss: 0.21366, in 0.711s\n",
            "[29/100] 6 trees, 186 leaves (31 on avg), max depth = 16, train loss: 0.21028, val loss: 0.21238, in 0.695s\n",
            "[30/100] 6 trees, 186 leaves (31 on avg), max depth = 15, train loss: 0.20931, val loss: 0.21139, in 0.637s\n",
            "[31/100] 6 trees, 186 leaves (31 on avg), max depth = 13, train loss: 0.20817, val loss: 0.21044, in 0.841s\n",
            "[32/100] 6 trees, 186 leaves (31 on avg), max depth = 14, train loss: 0.21131, val loss: 0.21443, in 1.728s\n",
            "[33/100] 6 trees, 186 leaves (31 on avg), max depth = 12, train loss: 0.21235, val loss: 0.21060, in 3.035s\n",
            "[34/100] 6 trees, 186 leaves (31 on avg), max depth = 14, train loss: 0.21177, val loss: 0.21066, in 0.862s\n",
            "[35/100] 6 trees, 186 leaves (31 on avg), max depth = 14, train loss: 0.21232, val loss: 0.21717, in 0.741s\n",
            "[36/100] 6 trees, 186 leaves (31 on avg), max depth = 16, train loss: 0.21029, val loss: 0.21239, in 0.707s\n",
            "[37/100] 6 trees, 186 leaves (31 on avg), max depth = 14, train loss: 0.21027, val loss: 0.21292, in 0.617s\n",
            "[38/100] 6 trees, 186 leaves (31 on avg), max depth = 15, train loss: 0.21182, val loss: 0.21866, in 0.613s\n",
            "[39/100] 6 trees, 186 leaves (31 on avg), max depth = 16, train loss: 0.21129, val loss: 0.22156, in 0.608s\n",
            "[40/100] 6 trees, 186 leaves (31 on avg), max depth = 18, train loss: 0.21508, val loss: 0.22361, in 0.647s\n",
            "[41/100] 6 trees, 186 leaves (31 on avg), max depth = 14, train loss: 0.21393, val loss: 0.21054, in 0.615s\n",
            "Fit 246 trees in 40.623 s, (7623 total leaves)\n",
            "Time spent computing histograms: 21.981s\n",
            "Time spent finding best splits:  2.391s\n",
            "Time spent applying splits:      4.570s\n",
            "Time spent predicting:           0.497s\n",
            "Binning 0.120 GB of training data: 1.551 s\n",
            "Binning 0.013 GB of validation data: 0.059 s\n",
            "Fitting gradient boosted rounds:\n",
            "[1/100] 6 trees, 181 leaves (30 on avg), max depth = 13, train loss: 1.26236, val loss: 1.26270, in 0.576s\n",
            "[2/100] 6 trees, 186 leaves (31 on avg), max depth = 12, train loss: 1.01908, val loss: 1.01962, in 0.615s\n",
            "[3/100] 6 trees, 186 leaves (31 on avg), max depth = 12, train loss: 0.84858, val loss: 0.84928, in 0.970s\n",
            "[4/100] 6 trees, 186 leaves (31 on avg), max depth = 12, train loss: 0.72157, val loss: 0.72240, in 3.106s\n",
            "[5/100] 6 trees, 186 leaves (31 on avg), max depth = 12, train loss: 0.62384, val loss: 0.62475, in 1.840s\n",
            "[6/100] 6 trees, 186 leaves (31 on avg), max depth = 12, train loss: 0.54711, val loss: 0.54812, in 0.647s\n",
            "[7/100] 6 trees, 186 leaves (31 on avg), max depth = 12, train loss: 0.48584, val loss: 0.48692, in 0.675s\n",
            "[8/100] 6 trees, 186 leaves (31 on avg), max depth = 12, train loss: 0.43668, val loss: 0.43784, in 0.749s\n",
            "[9/100] 6 trees, 186 leaves (31 on avg), max depth = 13, train loss: 0.39681, val loss: 0.39805, in 0.694s\n",
            "[10/100] 6 trees, 186 leaves (31 on avg), max depth = 12, train loss: 0.36435, val loss: 0.36567, in 0.737s\n",
            "[11/100] 6 trees, 186 leaves (31 on avg), max depth = 12, train loss: 0.33778, val loss: 0.33915, in 0.725s\n",
            "[12/100] 6 trees, 186 leaves (31 on avg), max depth = 12, train loss: 0.31594, val loss: 0.31736, in 0.712s\n",
            "[13/100] 6 trees, 186 leaves (31 on avg), max depth = 13, train loss: 0.29791, val loss: 0.29937, in 0.717s\n",
            "[14/100] 6 trees, 186 leaves (31 on avg), max depth = 13, train loss: 0.28299, val loss: 0.28448, in 0.719s\n",
            "[15/100] 6 trees, 186 leaves (31 on avg), max depth = 14, train loss: 0.27059, val loss: 0.27213, in 0.676s\n",
            "[16/100] 6 trees, 186 leaves (31 on avg), max depth = 14, train loss: 0.26025, val loss: 0.26182, in 0.676s\n",
            "[17/100] 6 trees, 186 leaves (31 on avg), max depth = 14, train loss: 0.25161, val loss: 0.25323, in 0.681s\n",
            "[18/100] 6 trees, 186 leaves (31 on avg), max depth = 15, train loss: 0.24437, val loss: 0.24603, in 0.659s\n",
            "[19/100] 6 trees, 186 leaves (31 on avg), max depth = 14, train loss: 0.23825, val loss: 0.23996, in 0.664s\n",
            "[20/100] 6 trees, 186 leaves (31 on avg), max depth = 14, train loss: 0.23309, val loss: 0.23485, in 1.668s\n",
            "[21/100] 6 trees, 186 leaves (31 on avg), max depth = 13, train loss: 0.22870, val loss: 0.23053, in 2.667s\n",
            "[22/100] 6 trees, 186 leaves (31 on avg), max depth = 13, train loss: 0.22498, val loss: 0.22684, in 1.538s\n",
            "[23/100] 6 trees, 186 leaves (31 on avg), max depth = 14, train loss: 0.22178, val loss: 0.22368, in 0.690s\n",
            "[24/100] 6 trees, 186 leaves (31 on avg), max depth = 14, train loss: 0.21905, val loss: 0.22099, in 0.710s\n",
            "[25/100] 6 trees, 186 leaves (31 on avg), max depth = 14, train loss: 0.21670, val loss: 0.21869, in 0.700s\n",
            "[26/100] 6 trees, 186 leaves (31 on avg), max depth = 15, train loss: 0.21469, val loss: 0.21675, in 0.667s\n",
            "[27/100] 6 trees, 186 leaves (31 on avg), max depth = 14, train loss: 0.21294, val loss: 0.21507, in 0.713s\n",
            "[28/100] 6 trees, 186 leaves (31 on avg), max depth = 14, train loss: 0.21142, val loss: 0.21360, in 0.688s\n",
            "[29/100] 6 trees, 186 leaves (31 on avg), max depth = 14, train loss: 0.21009, val loss: 0.21237, in 0.650s\n",
            "[30/100] 6 trees, 186 leaves (31 on avg), max depth = 16, train loss: 0.20892, val loss: 0.21117, in 0.688s\n",
            "[31/100] 6 trees, 186 leaves (31 on avg), max depth = 16, train loss: 0.20791, val loss: 0.21021, in 0.651s\n",
            "[32/100] 6 trees, 186 leaves (31 on avg), max depth = 15, train loss: 0.20700, val loss: 0.20938, in 0.664s\n",
            "[33/100] 6 trees, 186 leaves (31 on avg), max depth = 15, train loss: 0.20621, val loss: 0.20863, in 0.637s\n",
            "[34/100] 6 trees, 186 leaves (31 on avg), max depth = 15, train loss: 0.20551, val loss: 0.20798, in 0.566s\n",
            "[35/100] 6 trees, 186 leaves (31 on avg), max depth = 12, train loss: 0.20583, val loss: 0.20825, in 0.632s\n",
            "[36/100] 6 trees, 186 leaves (31 on avg), max depth = 11, train loss: 0.20519, val loss: 0.20692, in 0.577s\n",
            "[37/100] 6 trees, 186 leaves (31 on avg), max depth = 13, train loss: 0.20583, val loss: 0.20710, in 0.620s\n",
            "[38/100] 6 trees, 186 leaves (31 on avg), max depth = 17, train loss: 0.21319, val loss: 0.20624, in 1.746s\n",
            "[39/100] 6 trees, 186 leaves (31 on avg), max depth = 14, train loss: 0.21488, val loss: 0.20849, in 2.835s\n",
            "[40/100] 6 trees, 186 leaves (31 on avg), max depth = 15, train loss: 0.21645, val loss: 0.20547, in 1.054s\n",
            "[41/100] 6 trees, 186 leaves (31 on avg), max depth = 12, train loss: 0.22277, val loss: 0.20846, in 0.618s\n",
            "[42/100] 6 trees, 186 leaves (31 on avg), max depth = 14, train loss: 0.24117, val loss: 0.21305, in 0.706s\n",
            "[43/100] 6 trees, 186 leaves (31 on avg), max depth = 13, train loss: 0.23949, val loss: 0.21017, in 0.653s\n",
            "[44/100] 6 trees, 186 leaves (31 on avg), max depth = 13, train loss: 0.24360, val loss: 0.21730, in 0.679s\n",
            "[45/100] 6 trees, 186 leaves (31 on avg), max depth = 16, train loss: 0.24469, val loss: 0.21434, in 0.731s\n",
            "[46/100] 6 trees, 186 leaves (31 on avg), max depth = 13, train loss: 0.25237, val loss: 0.21752, in 0.633s\n",
            "[47/100] 6 trees, 186 leaves (31 on avg), max depth = 12, train loss: 0.27977, val loss: 0.25647, in 0.600s\n",
            "[48/100] 6 trees, 186 leaves (31 on avg), max depth = 15, train loss: 0.29923, val loss: 0.25834, in 0.610s\n",
            "[49/100] 6 trees, 186 leaves (31 on avg), max depth = 14, train loss: 0.31082, val loss: 0.27746, in 0.665s\n",
            "[50/100] 6 trees, 186 leaves (31 on avg), max depth = 17, train loss: 1.34766, val loss: 1.18173, in 0.705s\n",
            "Fit 300 trees in 47.165 s, (9295 total leaves)\n",
            "Time spent computing histograms: 27.030s\n",
            "Time spent finding best splits:  2.867s\n",
            "Time spent applying splits:      5.516s\n",
            "Time spent predicting:           0.686s\n",
            "Binning 0.120 GB of training data: 1.777 s\n",
            "Binning 0.013 GB of validation data: 0.326 s\n",
            "Fitting gradient boosted rounds:\n",
            "[1/100] 6 trees, 184 leaves (30 on avg), max depth = 12, train loss: 1.26258, val loss: 1.26306, in 2.549s\n",
            "[2/100] 6 trees, 186 leaves (31 on avg), max depth = 12, train loss: 1.01949, val loss: 1.02024, in 2.082s\n",
            "[3/100] 6 trees, 186 leaves (31 on avg), max depth = 12, train loss: 0.84917, val loss: 0.85016, in 0.689s\n",
            "[4/100] 6 trees, 186 leaves (31 on avg), max depth = 12, train loss: 0.72217, val loss: 0.72334, in 0.718s\n",
            "[5/100] 6 trees, 186 leaves (31 on avg), max depth = 13, train loss: 0.62445, val loss: 0.62574, in 0.751s\n",
            "[6/100] 6 trees, 186 leaves (31 on avg), max depth = 14, train loss: 0.54774, val loss: 0.54914, in 0.733s\n",
            "[7/100] 6 trees, 186 leaves (31 on avg), max depth = 13, train loss: 0.48666, val loss: 0.48817, in 0.673s\n",
            "[8/100] 6 trees, 186 leaves (31 on avg), max depth = 12, train loss: 0.43753, val loss: 0.43915, in 0.726s\n",
            "[9/100] 6 trees, 186 leaves (31 on avg), max depth = 14, train loss: 0.39758, val loss: 0.39916, in 0.744s\n",
            "[10/100] 6 trees, 186 leaves (31 on avg), max depth = 15, train loss: 0.36510, val loss: 0.36668, in 0.709s\n",
            "[11/100] 6 trees, 186 leaves (31 on avg), max depth = 15, train loss: 0.33850, val loss: 0.34011, in 0.700s\n",
            "[12/100] 6 trees, 186 leaves (31 on avg), max depth = 15, train loss: 0.31663, val loss: 0.31830, in 0.707s\n",
            "[13/100] 6 trees, 186 leaves (31 on avg), max depth = 15, train loss: 0.29859, val loss: 0.30033, in 0.687s\n",
            "[14/100] 6 trees, 186 leaves (31 on avg), max depth = 14, train loss: 0.28364, val loss: 0.28543, in 0.710s\n",
            "[15/100] 6 trees, 186 leaves (31 on avg), max depth = 13, train loss: 0.27121, val loss: 0.27304, in 0.707s\n",
            "[16/100] 6 trees, 186 leaves (31 on avg), max depth = 15, train loss: 0.26085, val loss: 0.26273, in 0.701s\n",
            "[17/100] 6 trees, 186 leaves (31 on avg), max depth = 14, train loss: 0.25217, val loss: 0.25411, in 2.855s\n",
            "[18/100] 6 trees, 186 leaves (31 on avg), max depth = 14, train loss: 0.24492, val loss: 0.24687, in 2.232s\n",
            "[19/100] 6 trees, 186 leaves (31 on avg), max depth = 14, train loss: 0.23880, val loss: 0.24079, in 0.654s\n",
            "[20/100] 6 trees, 186 leaves (31 on avg), max depth = 16, train loss: 0.23364, val loss: 0.23569, in 0.696s\n",
            "[21/100] 6 trees, 186 leaves (31 on avg), max depth = 15, train loss: 0.22925, val loss: 0.23136, in 0.663s\n",
            "[22/100] 6 trees, 186 leaves (31 on avg), max depth = 14, train loss: 0.22551, val loss: 0.22765, in 0.680s\n",
            "[23/100] 6 trees, 186 leaves (31 on avg), max depth = 13, train loss: 0.22231, val loss: 0.22453, in 0.649s\n",
            "[24/100] 6 trees, 186 leaves (31 on avg), max depth = 14, train loss: 0.21956, val loss: 0.22187, in 0.671s\n",
            "[25/100] 6 trees, 186 leaves (31 on avg), max depth = 11, train loss: 0.21719, val loss: 0.21957, in 0.647s\n",
            "[26/100] 6 trees, 186 leaves (31 on avg), max depth = 12, train loss: 0.21516, val loss: 0.21759, in 0.593s\n",
            "[27/100] 6 trees, 186 leaves (31 on avg), max depth = 14, train loss: 0.21340, val loss: 0.21589, in 0.687s\n",
            "[28/100] 6 trees, 186 leaves (31 on avg), max depth = 12, train loss: 0.21191, val loss: 0.21441, in 0.709s\n",
            "[29/100] 6 trees, 186 leaves (31 on avg), max depth = 17, train loss: 0.21057, val loss: 0.21312, in 0.614s\n",
            "[30/100] 6 trees, 186 leaves (31 on avg), max depth = 11, train loss: 0.20940, val loss: 0.21202, in 1.015s\n",
            "[31/100] 6 trees, 186 leaves (31 on avg), max depth = 13, train loss: 0.20837, val loss: 0.21104, in 0.685s\n",
            "[32/100] 6 trees, 186 leaves (31 on avg), max depth = 15, train loss: 0.20746, val loss: 0.21020, in 0.670s\n",
            "[33/100] 6 trees, 186 leaves (31 on avg), max depth = 13, train loss: 0.20666, val loss: 0.20942, in 1.631s\n",
            "[34/100] 6 trees, 186 leaves (31 on avg), max depth = 16, train loss: 0.20595, val loss: 0.20880, in 3.618s\n",
            "[35/100] 6 trees, 186 leaves (31 on avg), max depth = 17, train loss: 0.20534, val loss: 0.20824, in 0.996s\n",
            "[36/100] 6 trees, 186 leaves (31 on avg), max depth = 17, train loss: 0.20478, val loss: 0.20774, in 0.692s\n",
            "[37/100] 6 trees, 186 leaves (31 on avg), max depth = 14, train loss: 0.20550, val loss: 0.20824, in 0.712s\n",
            "[38/100] 6 trees, 186 leaves (31 on avg), max depth = 16, train loss: 0.21226, val loss: 0.20692, in 0.681s\n",
            "[39/100] 6 trees, 186 leaves (31 on avg), max depth = 20, train loss: 0.21644, val loss: 0.21570, in 0.689s\n",
            "[40/100] 6 trees, 186 leaves (31 on avg), max depth = 14, train loss: 0.21907, val loss: 0.20769, in 0.677s\n",
            "[41/100] 6 trees, 186 leaves (31 on avg), max depth = 14, train loss: 0.22347, val loss: 0.20854, in 0.654s\n",
            "[42/100] 6 trees, 186 leaves (31 on avg), max depth = 12, train loss: 0.22967, val loss: 0.21199, in 0.696s\n",
            "[43/100] 6 trees, 186 leaves (31 on avg), max depth = 16, train loss: 0.23072, val loss: 0.22330, in 0.675s\n",
            "[44/100] 6 trees, 186 leaves (31 on avg), max depth = 17, train loss: 0.22978, val loss: 0.20724, in 0.675s\n",
            "[45/100] 6 trees, 186 leaves (31 on avg), max depth = 14, train loss: 0.24151, val loss: 0.23145, in 0.670s\n",
            "[46/100] 6 trees, 186 leaves (31 on avg), max depth = 13, train loss: 0.26888, val loss: 0.20847, in 0.669s\n",
            "[47/100] 6 trees, 186 leaves (31 on avg), max depth = 15, train loss: 0.28926, val loss: 0.25102, in 0.647s\n",
            "[48/100] 6 trees, 186 leaves (31 on avg), max depth = 12, train loss: 0.29181, val loss: 0.22964, in 0.646s\n",
            "Fit 288 trees in 47.358 s, (8926 total leaves)\n",
            "Time spent computing histograms: 26.678s\n",
            "Time spent finding best splits:  3.057s\n",
            "Time spent applying splits:      5.547s\n",
            "Time spent predicting:           0.649s\n",
            "Binning 0.120 GB of training data: 3.506 s\n",
            "Binning 0.013 GB of validation data: 0.283 s\n",
            "Fitting gradient boosted rounds:\n",
            "[1/100] 6 trees, 186 leaves (31 on avg), max depth = 12, train loss: 1.26253, val loss: 1.26282, in 1.022s\n",
            "[2/100] 6 trees, 186 leaves (31 on avg), max depth = 12, train loss: 1.01935, val loss: 1.01977, in 0.641s\n",
            "[3/100] 6 trees, 186 leaves (31 on avg), max depth = 11, train loss: 0.84892, val loss: 0.84943, in 0.737s\n",
            "[4/100] 6 trees, 186 leaves (31 on avg), max depth = 12, train loss: 0.72198, val loss: 0.72256, in 0.738s\n",
            "[5/100] 6 trees, 186 leaves (31 on avg), max depth = 12, train loss: 0.62427, val loss: 0.62488, in 0.722s\n",
            "[6/100] 6 trees, 186 leaves (31 on avg), max depth = 13, train loss: 0.54758, val loss: 0.54822, in 0.741s\n",
            "[7/100] 6 trees, 186 leaves (31 on avg), max depth = 11, train loss: 0.48635, val loss: 0.48704, in 0.730s\n",
            "[8/100] 6 trees, 186 leaves (31 on avg), max depth = 13, train loss: 0.43720, val loss: 0.43787, in 0.708s\n",
            "[9/100] 6 trees, 186 leaves (31 on avg), max depth = 14, train loss: 0.39737, val loss: 0.39802, in 0.641s\n",
            "[10/100] 6 trees, 186 leaves (31 on avg), max depth = 14, train loss: 0.36491, val loss: 0.36555, in 0.666s\n",
            "[11/100] 6 trees, 186 leaves (31 on avg), max depth = 15, train loss: 0.33832, val loss: 0.33893, in 0.671s\n",
            "[12/100] 6 trees, 186 leaves (31 on avg), max depth = 15, train loss: 0.31650, val loss: 0.31710, in 0.695s\n",
            "[13/100] 6 trees, 186 leaves (31 on avg), max depth = 15, train loss: 0.29850, val loss: 0.29911, in 0.691s\n",
            "[14/100] 6 trees, 186 leaves (31 on avg), max depth = 17, train loss: 0.28358, val loss: 0.28419, in 0.682s\n",
            "[15/100] 6 trees, 186 leaves (31 on avg), max depth = 16, train loss: 0.27119, val loss: 0.27180, in 0.978s\n",
            "[16/100] 6 trees, 186 leaves (31 on avg), max depth = 17, train loss: 0.26086, val loss: 0.26145, in 2.224s\n",
            "[17/100] 6 trees, 186 leaves (31 on avg), max depth = 16, train loss: 0.25220, val loss: 0.25281, in 2.511s\n",
            "[18/100] 6 trees, 186 leaves (31 on avg), max depth = 16, train loss: 0.24494, val loss: 0.24556, in 0.722s\n",
            "[19/100] 6 trees, 186 leaves (31 on avg), max depth = 15, train loss: 0.23884, val loss: 0.23949, in 0.682s\n",
            "[20/100] 6 trees, 186 leaves (31 on avg), max depth = 14, train loss: 0.23367, val loss: 0.23430, in 0.669s\n",
            "[21/100] 6 trees, 186 leaves (31 on avg), max depth = 14, train loss: 0.22928, val loss: 0.22990, in 0.639s\n",
            "[22/100] 6 trees, 186 leaves (31 on avg), max depth = 13, train loss: 0.22556, val loss: 0.22620, in 0.678s\n",
            "[23/100] 6 trees, 186 leaves (31 on avg), max depth = 13, train loss: 0.22236, val loss: 0.22303, in 0.650s\n",
            "[24/100] 6 trees, 186 leaves (31 on avg), max depth = 15, train loss: 0.21963, val loss: 0.22032, in 0.596s\n",
            "[25/100] 6 trees, 186 leaves (31 on avg), max depth = 13, train loss: 0.21728, val loss: 0.21798, in 0.717s\n",
            "[26/100] 6 trees, 186 leaves (31 on avg), max depth = 14, train loss: 0.21527, val loss: 0.21602, in 0.664s\n",
            "[27/100] 6 trees, 186 leaves (31 on avg), max depth = 15, train loss: 0.21351, val loss: 0.21429, in 0.686s\n",
            "[28/100] 6 trees, 186 leaves (31 on avg), max depth = 13, train loss: 0.21199, val loss: 0.21284, in 0.683s\n",
            "[29/100] 6 trees, 186 leaves (31 on avg), max depth = 15, train loss: 0.21063, val loss: 0.21165, in 0.664s\n",
            "[30/100] 6 trees, 186 leaves (31 on avg), max depth = 14, train loss: 0.20946, val loss: 0.21053, in 0.665s\n",
            "[31/100] 6 trees, 186 leaves (31 on avg), max depth = 14, train loss: 0.20891, val loss: 0.21027, in 0.683s\n",
            "[32/100] 6 trees, 186 leaves (31 on avg), max depth = 12, train loss: 0.20946, val loss: 0.20872, in 0.653s\n",
            "[33/100] 6 trees, 186 leaves (31 on avg), max depth = 12, train loss: 0.20878, val loss: 0.20796, in 1.870s\n",
            "[34/100] 6 trees, 186 leaves (31 on avg), max depth = 14, train loss: 0.21198, val loss: 0.21324, in 2.374s\n",
            "[35/100] 6 trees, 186 leaves (31 on avg), max depth = 15, train loss: 0.20793, val loss: 0.21022, in 1.712s\n",
            "[36/100] 6 trees, 186 leaves (31 on avg), max depth = 13, train loss: 0.20832, val loss: 0.21135, in 1.642s\n",
            "[37/100] 6 trees, 186 leaves (31 on avg), max depth = 13, train loss: 0.20826, val loss: 0.20936, in 1.735s\n",
            "[38/100] 6 trees, 186 leaves (31 on avg), max depth = 13, train loss: 0.21251, val loss: 0.21301, in 1.587s\n",
            "[39/100] 6 trees, 186 leaves (31 on avg), max depth = 12, train loss: 0.23260, val loss: 0.21768, in 0.670s\n",
            "[40/100] 6 trees, 186 leaves (31 on avg), max depth = 11, train loss: 0.22736, val loss: 0.21345, in 0.656s\n",
            "[41/100] 6 trees, 186 leaves (31 on avg), max depth = 12, train loss: 0.23473, val loss: 0.21166, in 0.649s\n",
            "[42/100] 6 trees, 186 leaves (31 on avg), max depth = 16, train loss: 0.23584, val loss: 0.21092, in 0.666s\n",
            "[43/100] 6 trees, 186 leaves (31 on avg), max depth = 12, train loss: 0.26505, val loss: 0.23059, in 0.663s\n",
            "Fit 258 trees in 44.775 s, (7998 total leaves)\n",
            "Time spent computing histograms: 24.436s\n",
            "Time spent finding best splits:  2.011s\n",
            "Time spent applying splits:      4.788s\n",
            "Time spent predicting:           0.623s\n",
            "Binning 0.120 GB of training data: 1.880 s\n",
            "Binning 0.013 GB of validation data: 0.091 s\n",
            "Fitting gradient boosted rounds:\n",
            "[1/100] 6 trees, 186 leaves (31 on avg), max depth = 13, train loss: 1.26242, val loss: 1.26260, in 0.631s\n",
            "[2/100] 6 trees, 186 leaves (31 on avg), max depth = 12, train loss: 1.01918, val loss: 1.01951, in 0.613s\n",
            "[3/100] 6 trees, 186 leaves (31 on avg), max depth = 11, train loss: 0.84871, val loss: 0.84918, in 1.716s\n",
            "[4/100] 6 trees, 186 leaves (31 on avg), max depth = 15, train loss: 0.72174, val loss: 0.72229, in 3.047s\n",
            "[5/100] 6 trees, 186 leaves (31 on avg), max depth = 14, train loss: 0.62400, val loss: 0.62462, in 1.169s\n",
            "[6/100] 6 trees, 186 leaves (31 on avg), max depth = 12, train loss: 0.54729, val loss: 0.54796, in 0.744s\n",
            "[7/100] 6 trees, 186 leaves (31 on avg), max depth = 13, train loss: 0.48608, val loss: 0.48682, in 0.711s\n",
            "[8/100] 6 trees, 186 leaves (31 on avg), max depth = 14, train loss: 0.43687, val loss: 0.43762, in 0.731s\n",
            "[9/100] 6 trees, 186 leaves (31 on avg), max depth = 14, train loss: 0.39708, val loss: 0.39785, in 0.740s\n",
            "[10/100] 6 trees, 186 leaves (31 on avg), max depth = 14, train loss: 0.36461, val loss: 0.36535, in 0.682s\n",
            "[11/100] 6 trees, 186 leaves (31 on avg), max depth = 14, train loss: 0.33806, val loss: 0.33881, in 0.660s\n",
            "[12/100] 6 trees, 186 leaves (31 on avg), max depth = 14, train loss: 0.31624, val loss: 0.31699, in 0.629s\n",
            "[13/100] 6 trees, 186 leaves (31 on avg), max depth = 18, train loss: 0.29823, val loss: 0.29902, in 0.629s\n",
            "[14/100] 6 trees, 186 leaves (31 on avg), max depth = 13, train loss: 0.28330, val loss: 0.28413, in 0.661s\n",
            "[15/100] 6 trees, 186 leaves (31 on avg), max depth = 13, train loss: 0.27090, val loss: 0.27178, in 0.674s\n",
            "[16/100] 6 trees, 186 leaves (31 on avg), max depth = 15, train loss: 0.26056, val loss: 0.26146, in 0.648s\n",
            "[17/100] 6 trees, 186 leaves (31 on avg), max depth = 14, train loss: 0.25191, val loss: 0.25285, in 0.667s\n",
            "[18/100] 6 trees, 186 leaves (31 on avg), max depth = 16, train loss: 0.24466, val loss: 0.24563, in 0.670s\n",
            "[19/100] 6 trees, 186 leaves (31 on avg), max depth = 16, train loss: 0.23856, val loss: 0.23954, in 0.661s\n",
            "[20/100] 6 trees, 186 leaves (31 on avg), max depth = 16, train loss: 0.23338, val loss: 0.23438, in 1.965s\n",
            "[21/100] 6 trees, 186 leaves (31 on avg), max depth = 16, train loss: 0.22898, val loss: 0.23002, in 2.867s\n",
            "[22/100] 6 trees, 186 leaves (31 on avg), max depth = 15, train loss: 0.22527, val loss: 0.22636, in 0.992s\n",
            "[23/100] 6 trees, 186 leaves (31 on avg), max depth = 18, train loss: 0.22207, val loss: 0.22323, in 0.665s\n",
            "[24/100] 6 trees, 186 leaves (31 on avg), max depth = 14, train loss: 0.21930, val loss: 0.22052, in 0.706s\n",
            "[25/100] 6 trees, 186 leaves (31 on avg), max depth = 17, train loss: 0.21695, val loss: 0.21822, in 0.682s\n",
            "[26/100] 6 trees, 186 leaves (31 on avg), max depth = 16, train loss: 0.21493, val loss: 0.21626, in 0.671s\n",
            "[27/100] 6 trees, 186 leaves (31 on avg), max depth = 17, train loss: 0.21319, val loss: 0.21458, in 0.689s\n",
            "[28/100] 6 trees, 186 leaves (31 on avg), max depth = 15, train loss: 0.21165, val loss: 0.21310, in 0.635s\n",
            "[29/100] 6 trees, 186 leaves (31 on avg), max depth = 15, train loss: 0.21033, val loss: 0.21183, in 0.701s\n",
            "[30/100] 6 trees, 186 leaves (31 on avg), max depth = 15, train loss: 0.20916, val loss: 0.21074, in 0.730s\n",
            "[31/100] 6 trees, 186 leaves (31 on avg), max depth = 13, train loss: 0.20819, val loss: 0.20994, in 0.721s\n",
            "[32/100] 6 trees, 186 leaves (31 on avg), max depth = 15, train loss: 0.20727, val loss: 0.20906, in 0.681s\n",
            "[33/100] 6 trees, 186 leaves (31 on avg), max depth = 12, train loss: 0.20647, val loss: 0.20830, in 0.719s\n",
            "[34/100] 6 trees, 186 leaves (31 on avg), max depth = 16, train loss: 0.20575, val loss: 0.20764, in 0.697s\n",
            "[35/100] 6 trees, 186 leaves (31 on avg), max depth = 14, train loss: 0.20511, val loss: 0.20708, in 0.669s\n",
            "[36/100] 6 trees, 186 leaves (31 on avg), max depth = 15, train loss: 0.20457, val loss: 0.20659, in 0.835s\n",
            "[37/100] 6 trees, 186 leaves (31 on avg), max depth = 10, train loss: 0.20555, val loss: 0.20736, in 2.453s\n",
            "[38/100] 6 trees, 186 leaves (31 on avg), max depth = 12, train loss: 0.21673, val loss: 0.21444, in 2.200s\n",
            "[39/100] 6 trees, 186 leaves (31 on avg), max depth = 15, train loss: 0.21854, val loss: 0.21532, in 0.889s\n",
            "[40/100] 6 trees, 186 leaves (31 on avg), max depth = 13, train loss: 0.22245, val loss: 0.23261, in 0.735s\n",
            "[41/100] 6 trees, 186 leaves (31 on avg), max depth = 14, train loss: 0.22279, val loss: 0.22450, in 0.666s\n",
            "[42/100] 6 trees, 186 leaves (31 on avg), max depth = 15, train loss: 0.22492, val loss: 0.22950, in 0.636s\n",
            "[43/100] 6 trees, 186 leaves (31 on avg), max depth = 16, train loss: 0.22423, val loss: 0.22065, in 0.723s\n",
            "[44/100] 6 trees, 186 leaves (31 on avg), max depth = 13, train loss: 0.22245, val loss: 0.21233, in 0.666s\n",
            "[45/100] 6 trees, 186 leaves (31 on avg), max depth = 14, train loss: 0.22689, val loss: 0.22005, in 0.669s\n",
            "[46/100] 6 trees, 186 leaves (31 on avg), max depth = 15, train loss: 0.24118, val loss: 0.22618, in 0.682s\n",
            "Fit 276 trees in 45.423 s, (8556 total leaves)\n",
            "Time spent computing histograms: 25.317s\n",
            "Time spent finding best splits:  2.780s\n",
            "Time spent applying splits:      5.584s\n",
            "Time spent predicting:           0.577s\n",
            "Binning 0.120 GB of training data: 1.841 s\n",
            "Binning 0.013 GB of validation data: 0.113 s\n",
            "Fitting gradient boosted rounds:\n",
            "[1/100] 6 trees, 186 leaves (31 on avg), max depth = 12, train loss: 1.26234, val loss: 1.26311, in 0.622s\n",
            "[2/100] 6 trees, 186 leaves (31 on avg), max depth = 12, train loss: 1.01903, val loss: 1.02019, in 1.202s\n",
            "[3/100] 6 trees, 186 leaves (31 on avg), max depth = 14, train loss: 0.84851, val loss: 0.85003, in 2.823s\n",
            "[4/100] 6 trees, 186 leaves (31 on avg), max depth = 13, train loss: 0.72150, val loss: 0.72325, in 1.428s\n",
            "[5/100] 6 trees, 186 leaves (31 on avg), max depth = 13, train loss: 0.62375, val loss: 0.62576, in 0.623s\n",
            "[6/100] 6 trees, 186 leaves (31 on avg), max depth = 13, train loss: 0.54700, val loss: 0.54917, in 0.648s\n",
            "[7/100] 6 trees, 186 leaves (31 on avg), max depth = 13, train loss: 0.48577, val loss: 0.48808, in 0.616s\n",
            "[8/100] 6 trees, 186 leaves (31 on avg), max depth = 12, train loss: 0.43656, val loss: 0.43902, in 0.652s\n",
            "[9/100] 6 trees, 186 leaves (31 on avg), max depth = 13, train loss: 0.39667, val loss: 0.39926, in 0.626s\n",
            "[10/100] 6 trees, 186 leaves (31 on avg), max depth = 12, train loss: 0.36420, val loss: 0.36689, in 0.649s\n",
            "[11/100] 6 trees, 186 leaves (31 on avg), max depth = 13, train loss: 0.33761, val loss: 0.34039, in 0.649s\n",
            "[12/100] 6 trees, 186 leaves (31 on avg), max depth = 13, train loss: 0.31575, val loss: 0.31858, in 0.631s\n",
            "[13/100] 6 trees, 186 leaves (31 on avg), max depth = 14, train loss: 0.29774, val loss: 0.30064, in 0.606s\n",
            "[14/100] 6 trees, 186 leaves (31 on avg), max depth = 14, train loss: 0.28283, val loss: 0.28577, in 0.584s\n",
            "[15/100] 6 trees, 186 leaves (31 on avg), max depth = 14, train loss: 0.27042, val loss: 0.27341, in 0.616s\n",
            "[16/100] 6 trees, 186 leaves (31 on avg), max depth = 14, train loss: 0.26009, val loss: 0.26310, in 0.617s\n",
            "[17/100] 6 trees, 186 leaves (31 on avg), max depth = 16, train loss: 0.25145, val loss: 0.25450, in 0.615s\n",
            "[18/100] 6 trees, 186 leaves (31 on avg), max depth = 13, train loss: 0.24421, val loss: 0.24729, in 0.687s\n",
            "[19/100] 6 trees, 186 leaves (31 on avg), max depth = 16, train loss: 0.23810, val loss: 0.24123, in 0.657s\n",
            "[20/100] 6 trees, 186 leaves (31 on avg), max depth = 15, train loss: 0.23293, val loss: 0.23612, in 1.011s\n",
            "[21/100] 6 trees, 186 leaves (31 on avg), max depth = 15, train loss: 0.22856, val loss: 0.23176, in 2.136s\n",
            "[22/100] 6 trees, 186 leaves (31 on avg), max depth = 16, train loss: 0.22482, val loss: 0.22806, in 2.326s\n",
            "[23/100] 6 trees, 186 leaves (31 on avg), max depth = 15, train loss: 0.22164, val loss: 0.22493, in 0.885s\n",
            "[24/100] 6 trees, 186 leaves (31 on avg), max depth = 15, train loss: 0.21892, val loss: 0.22225, in 0.632s\n",
            "[25/100] 6 trees, 186 leaves (31 on avg), max depth = 14, train loss: 0.21656, val loss: 0.21996, in 0.603s\n",
            "[26/100] 6 trees, 186 leaves (31 on avg), max depth = 14, train loss: 0.21453, val loss: 0.21801, in 0.587s\n",
            "[27/100] 6 trees, 186 leaves (31 on avg), max depth = 14, train loss: 0.21278, val loss: 0.21633, in 0.671s\n",
            "[28/100] 6 trees, 186 leaves (31 on avg), max depth = 13, train loss: 0.21125, val loss: 0.21485, in 0.639s\n",
            "[29/100] 6 trees, 186 leaves (31 on avg), max depth = 12, train loss: 0.20992, val loss: 0.21360, in 0.673s\n",
            "[30/100] 6 trees, 186 leaves (31 on avg), max depth = 13, train loss: 0.20876, val loss: 0.21252, in 0.655s\n",
            "[31/100] 6 trees, 186 leaves (31 on avg), max depth = 14, train loss: 0.20774, val loss: 0.21156, in 0.638s\n",
            "[32/100] 6 trees, 186 leaves (31 on avg), max depth = 14, train loss: 0.20684, val loss: 0.21074, in 0.693s\n",
            "[33/100] 6 trees, 186 leaves (31 on avg), max depth = 16, train loss: 0.20606, val loss: 0.21001, in 0.701s\n",
            "[34/100] 6 trees, 186 leaves (31 on avg), max depth = 14, train loss: 0.20535, val loss: 0.20940, in 0.665s\n",
            "[35/100] 6 trees, 186 leaves (31 on avg), max depth = 14, train loss: 0.20472, val loss: 0.20883, in 0.696s\n",
            "[36/100] 6 trees, 186 leaves (31 on avg), max depth = 14, train loss: 0.20432, val loss: 0.20861, in 0.675s\n",
            "[37/100] 6 trees, 186 leaves (31 on avg), max depth = 13, train loss: 0.20374, val loss: 0.20806, in 0.596s\n",
            "[38/100] 6 trees, 186 leaves (31 on avg), max depth = 13, train loss: 0.20328, val loss: 0.20766, in 1.024s\n",
            "[39/100] 6 trees, 186 leaves (31 on avg), max depth = 15, train loss: 0.20286, val loss: 0.20729, in 2.036s\n",
            "[40/100] 6 trees, 186 leaves (31 on avg), max depth = 14, train loss: 0.20249, val loss: 0.20697, in 2.378s\n",
            "[41/100] 6 trees, 186 leaves (31 on avg), max depth = 14, train loss: 0.20216, val loss: 0.20670, in 0.643s\n",
            "[42/100] 6 trees, 186 leaves (31 on avg), max depth = 15, train loss: 0.20184, val loss: 0.20648, in 0.578s\n",
            "[43/100] 6 trees, 186 leaves (31 on avg), max depth = 13, train loss: 0.20155, val loss: 0.20626, in 0.591s\n",
            "[44/100] 6 trees, 186 leaves (31 on avg), max depth = 18, train loss: 0.20130, val loss: 0.20607, in 0.677s\n",
            "[45/100] 6 trees, 186 leaves (31 on avg), max depth = 15, train loss: 0.20107, val loss: 0.20589, in 0.597s\n",
            "[46/100] 6 trees, 186 leaves (31 on avg), max depth = 15, train loss: 0.20084, val loss: 0.20576, in 0.652s\n",
            "[47/100] 6 trees, 186 leaves (31 on avg), max depth = 15, train loss: 0.20204, val loss: 0.20631, in 0.661s\n",
            "[48/100] 6 trees, 186 leaves (31 on avg), max depth = 14, train loss: 0.20596, val loss: 0.20550, in 0.650s\n",
            "[49/100] 6 trees, 186 leaves (31 on avg), max depth = 12, train loss: 0.21653, val loss: 0.21352, in 0.688s\n",
            "[50/100] 6 trees, 186 leaves (31 on avg), max depth = 14, train loss: 0.65438, val loss: 0.80619, in 0.603s\n",
            "[51/100] 6 trees, 186 leaves (31 on avg), max depth = 13, train loss: 0.38041, val loss: 0.41470, in 0.604s\n",
            "[52/100] 6 trees, 186 leaves (31 on avg), max depth = 15, train loss: 0.35196, val loss: 0.37992, in 0.561s\n",
            "[53/100] 6 trees, 186 leaves (31 on avg), max depth = 13, train loss: 0.33779, val loss: 0.48920, in 0.551s\n",
            "[54/100] 6 trees, 186 leaves (31 on avg), max depth = 15, train loss: 0.50577, val loss: 0.65955, in 0.565s\n",
            "[55/100] 6 trees, 186 leaves (31 on avg), max depth = 14, train loss: 1.87275, val loss: 1.89327, in 0.536s\n",
            "[56/100] 6 trees, 186 leaves (31 on avg), max depth = 15, train loss: 5.24440, val loss: 4.76899, in 0.632s\n",
            "[57/100] 6 trees, 186 leaves (31 on avg), max depth = 15, train loss: 1.96388, val loss: 2.49579, in 1.037s\n",
            "[58/100] 6 trees, 186 leaves (31 on avg), max depth = 18, train loss: 3.47523, val loss: 3.89386, in 2.695s\n",
            "Fit 348 trees in 52.781 s, (10788 total leaves)\n",
            "Time spent computing histograms: 29.907s\n",
            "Time spent finding best splits:  3.389s\n",
            "Time spent applying splits:      6.227s\n",
            "Time spent predicting:           0.691s\n",
            "Binning 0.120 GB of training data: 1.696 s\n",
            "Binning 0.013 GB of validation data: 0.057 s\n",
            "Fitting gradient boosted rounds:\n",
            "[1/100] 6 trees, 185 leaves (30 on avg), max depth = 12, train loss: 1.26232, val loss: 1.26291, in 0.580s\n",
            "[2/100] 6 trees, 186 leaves (31 on avg), max depth = 12, train loss: 1.01901, val loss: 1.02001, in 0.604s\n",
            "[3/100] 6 trees, 186 leaves (31 on avg), max depth = 12, train loss: 0.84857, val loss: 0.84985, in 0.648s\n",
            "[4/100] 6 trees, 186 leaves (31 on avg), max depth = 12, train loss: 0.72160, val loss: 0.72307, in 0.648s\n",
            "[5/100] 6 trees, 186 leaves (31 on avg), max depth = 12, train loss: 0.62388, val loss: 0.62552, in 0.682s\n",
            "[6/100] 6 trees, 186 leaves (31 on avg), max depth = 12, train loss: 0.54716, val loss: 0.54893, in 0.718s\n",
            "[7/100] 6 trees, 186 leaves (31 on avg), max depth = 11, train loss: 0.48595, val loss: 0.48787, in 0.704s\n",
            "[8/100] 6 trees, 186 leaves (31 on avg), max depth = 11, train loss: 0.43673, val loss: 0.43880, in 0.714s\n",
            "[9/100] 6 trees, 186 leaves (31 on avg), max depth = 13, train loss: 0.39686, val loss: 0.39900, in 0.724s\n",
            "[10/100] 6 trees, 186 leaves (31 on avg), max depth = 13, train loss: 0.36441, val loss: 0.36665, in 0.638s\n",
            "[11/100] 6 trees, 186 leaves (31 on avg), max depth = 13, train loss: 0.33782, val loss: 0.34013, in 1.770s\n",
            "[12/100] 6 trees, 186 leaves (31 on avg), max depth = 14, train loss: 0.31599, val loss: 0.31834, in 3.028s\n",
            "[13/100] 6 trees, 186 leaves (31 on avg), max depth = 14, train loss: 0.29797, val loss: 0.30039, in 0.998s\n",
            "[14/100] 6 trees, 186 leaves (31 on avg), max depth = 14, train loss: 0.28304, val loss: 0.28551, in 0.641s\n",
            "[15/100] 6 trees, 186 leaves (31 on avg), max depth = 13, train loss: 0.27066, val loss: 0.27319, in 0.669s\n",
            "[16/100] 6 trees, 186 leaves (31 on avg), max depth = 14, train loss: 0.26032, val loss: 0.26291, in 0.699s\n",
            "[17/100] 6 trees, 186 leaves (31 on avg), max depth = 14, train loss: 0.25168, val loss: 0.25432, in 0.681s\n",
            "[18/100] 6 trees, 186 leaves (31 on avg), max depth = 14, train loss: 0.24443, val loss: 0.24713, in 0.690s\n",
            "[19/100] 6 trees, 186 leaves (31 on avg), max depth = 12, train loss: 0.23830, val loss: 0.24108, in 0.695s\n",
            "[20/100] 6 trees, 186 leaves (31 on avg), max depth = 15, train loss: 0.23313, val loss: 0.23595, in 0.686s\n",
            "[21/100] 6 trees, 186 leaves (31 on avg), max depth = 12, train loss: 0.22875, val loss: 0.23163, in 0.607s\n",
            "[22/100] 6 trees, 186 leaves (31 on avg), max depth = 15, train loss: 0.22503, val loss: 0.22798, in 0.572s\n",
            "[23/100] 6 trees, 186 leaves (31 on avg), max depth = 14, train loss: 0.22186, val loss: 0.22486, in 0.607s\n",
            "[24/100] 6 trees, 186 leaves (31 on avg), max depth = 13, train loss: 0.21912, val loss: 0.22219, in 0.632s\n",
            "[25/100] 6 trees, 186 leaves (31 on avg), max depth = 15, train loss: 0.21676, val loss: 0.21988, in 0.667s\n",
            "[26/100] 6 trees, 186 leaves (31 on avg), max depth = 13, train loss: 0.21473, val loss: 0.21792, in 0.669s\n",
            "[27/100] 6 trees, 186 leaves (31 on avg), max depth = 13, train loss: 0.21297, val loss: 0.21626, in 0.708s\n",
            "[28/100] 6 trees, 186 leaves (31 on avg), max depth = 15, train loss: 0.21145, val loss: 0.21480, in 1.287s\n",
            "[29/100] 6 trees, 186 leaves (31 on avg), max depth = 15, train loss: 0.21012, val loss: 0.21352, in 2.791s\n",
            "[30/100] 6 trees, 186 leaves (31 on avg), max depth = 13, train loss: 0.20896, val loss: 0.21243, in 1.455s\n",
            "[31/100] 6 trees, 186 leaves (31 on avg), max depth = 11, train loss: 0.20794, val loss: 0.21146, in 0.598s\n",
            "[32/100] 6 trees, 186 leaves (31 on avg), max depth = 14, train loss: 0.20705, val loss: 0.21064, in 0.664s\n",
            "[33/100] 6 trees, 186 leaves (31 on avg), max depth = 15, train loss: 0.20672, val loss: 0.21017, in 0.622s\n",
            "[34/100] 6 trees, 186 leaves (31 on avg), max depth = 18, train loss: 0.20627, val loss: 0.20926, in 0.568s\n",
            "[35/100] 6 trees, 186 leaves (31 on avg), max depth = 15, train loss: 0.20583, val loss: 0.20908, in 0.596s\n",
            "[36/100] 6 trees, 186 leaves (31 on avg), max depth = 16, train loss: 0.20526, val loss: 0.20843, in 0.637s\n",
            "[37/100] 6 trees, 186 leaves (31 on avg), max depth = 12, train loss: 0.20468, val loss: 0.20797, in 0.722s\n",
            "[38/100] 6 trees, 186 leaves (31 on avg), max depth = 12, train loss: 0.21125, val loss: 0.20918, in 0.623s\n",
            "[39/100] 6 trees, 186 leaves (31 on avg), max depth = 14, train loss: 0.22453, val loss: 0.20722, in 0.575s\n",
            "[40/100] 6 trees, 186 leaves (31 on avg), max depth = 16, train loss: 0.22723, val loss: 0.20968, in 0.611s\n",
            "[41/100] 6 trees, 186 leaves (31 on avg), max depth = 14, train loss: 0.22880, val loss: 0.20797, in 0.574s\n",
            "[42/100] 6 trees, 186 leaves (31 on avg), max depth = 12, train loss: 0.23563, val loss: 0.24061, in 0.623s\n",
            "[43/100] 6 trees, 186 leaves (31 on avg), max depth = 12, train loss: 0.23503, val loss: 0.23953, in 0.721s\n",
            "[44/100] 6 trees, 186 leaves (31 on avg), max depth = 15, train loss: 0.23579, val loss: 0.24923, in 0.639s\n",
            "[45/100] 6 trees, 186 leaves (31 on avg), max depth = 15, train loss: 0.23497, val loss: 0.25046, in 0.595s\n",
            "[46/100] 6 trees, 186 leaves (31 on avg), max depth = 17, train loss: 0.23351, val loss: 0.24913, in 0.729s\n",
            "[47/100] 6 trees, 186 leaves (31 on avg), max depth = 17, train loss: 0.23079, val loss: 0.25071, in 2.032s\n",
            "[48/100] 6 trees, 186 leaves (31 on avg), max depth = 16, train loss: 0.23941, val loss: 0.25641, in 2.594s\n",
            "[49/100] 6 trees, 186 leaves (31 on avg), max depth = 15, train loss: 0.25293, val loss: 0.26770, in 0.906s\n",
            "Fit 294 trees in 45.245 s, (9113 total leaves)\n",
            "Time spent computing histograms: 25.746s\n",
            "Time spent finding best splits:  2.855s\n",
            "Time spent applying splits:      5.418s\n",
            "Time spent predicting:           0.568s\n",
            "Acurácia para cada fold: [0.8871923  0.88085372 0.88518666 0.88511097 0.88089156 0.88537587\n",
            " 0.88696524 0.8862084  0.88178086 0.88469471]\n",
            "Acurácia média: 0.8844260278897277\n"
          ]
        }
      ]
    },
    {
      "cell_type": "code",
      "source": [
        "conf_matrix = confusion_matrix(y_test, y_pred)\n",
        "\n",
        "print(\"Matriz de Confusão:\")\n",
        "print(conf_matrix)\n",
        "\n",
        "plt.figure(figsize=(8, 6))\n",
        "sns.heatmap(conf_matrix, annot=True, fmt='d', cmap='Blues', cbar=False,\n",
        "            xticklabels=label_encoder.classes_, yticklabels=label_encoder.classes_)\n",
        "plt.xlabel('Predito')\n",
        "plt.ylabel('Real')\n",
        "plt.title('Matriz de Confusão')\n",
        "plt.show()"
      ],
      "metadata": {
        "colab": {
          "base_uri": "https://localhost:8080/",
          "height": 703
        },
        "id": "HAZxckwBZbkv",
        "outputId": "253e201e-ccc7-4b0a-ce52-fa86f69adaeb"
      },
      "execution_count": null,
      "outputs": [
        {
          "output_type": "stream",
          "name": "stdout",
          "text": [
            "Matriz de Confusão:\n",
            "[[ 5778     0     0     1     0     2     0]\n",
            " [    0 19921    13     1     0     0     0]\n",
            " [    0     5 19968     0     4     0   116]\n",
            " [    0     1     1  9932 10062     2     0]\n",
            " [    0     1     2  2120 17964     5     1]\n",
            " [    0     0     1     0     5 19813    10]\n",
            " [    0     0   238     0     1    10 19738]]\n"
          ]
        },
        {
          "output_type": "display_data",
          "data": {
            "text/plain": [
              "<Figure size 800x600 with 1 Axes>"
            ],
            "image/png": "[encoded data removed]"
          },
          "metadata": {}
        }
      ]
    },
    {
      "cell_type": "code",
      "source": [
        "unique_values, counts = np.unique(y_test, return_counts=True)\n",
        "\n",
        "contagem_por_classe = dict(zip(unique_values, counts))\n",
        "\n",
        "porcentagem_por_classe = {classe: (conf_matrix[i, i] / contagem_por_classe[classe]) * 100\n",
        "                           for i, classe in enumerate(unique_values)}\n",
        "\n",
        "print(\"Porcentagem de acertos por classe:\")\n",
        "print(porcentagem_por_classe)"
      ],
      "metadata": {
        "colab": {
          "base_uri": "https://localhost:8080/"
        },
        "id": "R5RBHZ1FvGQO",
        "outputId": "aafb98b1-7f40-4503-cecd-1fabd1c4fd08"
      },
      "execution_count": null,
      "outputs": [
        {
          "output_type": "stream",
          "name": "stdout",
          "text": [
            "Porcentagem de acertos por classe:\n",
            "{0: 99.94810586403736, 1: 99.92977175821419, 2: 99.37789279848704, 3: 49.66496649664967, 4: 89.40427014383118, 5: 99.91931010136669, 6: 98.75419022364537}\n"
          ]
        }
      ]
    },
    {
      "cell_type": "code",
      "source": [
        "drive.mount('/content/drive')\n",
        "df_teste = pd.read_csv('/content/drive/MyDrive/base de dados/dataset_teste.csv', encoding='utf-8', sep=',')"
      ],
      "metadata": {
        "id": "6rTi6NK0hsYT",
        "colab": {
          "base_uri": "https://localhost:8080/"
        },
        "outputId": "60834cf5-0415-4ba0-ab02-40c44896f3cd"
      },
      "execution_count": null,
      "outputs": [
        {
          "output_type": "stream",
          "name": "stdout",
          "text": [
            "Drive already mounted at /content/drive; to attempt to forcibly remount, call drive.mount(\"/content/drive\", force_remount=True).\n"
          ]
        }
      ]
    },
    {
      "cell_type": "code",
      "source": [
        "contagem_por_classe = df_teste[' Label'].value_counts()\n",
        "\n",
        "print(\"Contagem de exemplares por classe:\")\n",
        "print(contagem_por_classe)"
      ],
      "metadata": {
        "colab": {
          "base_uri": "https://localhost:8080/"
        },
        "id": "uneOQN7JbFN_",
        "outputId": "2c6fbdc9-9f53-4423-a957-3e564e954410"
      },
      "execution_count": null,
      "outputs": [
        {
          "output_type": "stream",
          "name": "stdout",
          "text": [
            "Contagem de exemplares por classe:\n",
            "MSSQL      114054\n",
            "Syn         99978\n",
            "NetBIOS     99908\n",
            "Portmap     95273\n",
            "UDP         73970\n",
            "LDAP         9931\n",
            "BENIGN       6886\n",
            "Name:  Label, dtype: int64\n"
          ]
        }
      ]
    },
    {
      "cell_type": "code",
      "source": [
        "labels_teste = df_teste[' Label']\n",
        "\n",
        "data_teste = df_teste.drop(columns=[' Label'])\n",
        "\n",
        "label_encoder = LabelEncoder()\n",
        "labels_encoded_teste = label_encoder.fit_transform(labels_teste)"
      ],
      "metadata": {
        "id": "2CSj2o0ZfRsM"
      },
      "execution_count": null,
      "outputs": []
    },
    {
      "cell_type": "code",
      "source": [
        "data_teste = data_teste.drop(columns=['Bwd Avg Bulk Rate', ' Flow Packets/s', ' Bwd Avg Packets/Bulk', ' Bwd Avg Bytes/Bulk', ' Fwd Avg Bulk Rate', ' Fwd Avg Packets/Bulk', 'Fwd Avg Bytes/Bulk', ' ECE Flag Count', ' PSH Flag Count', 'FIN Flag Count', ' Bwd URG Flags', ' Fwd URG Flags', ' Bwd PSH Flags'], axis=1)\n",
        "indices_selecionados = [0, 1, 2, 3, 6, 7, 8, 9, 10, 11, 16, 17, 19, 20, 21, 22, 23, 24, 25, 26, 32, 34, 35, 36, 37, 38, 41, 43, 44, 47, 55, 56, 58, 66, 67]\n",
        "data_teste = data_teste.iloc[:, indices_selecionados]"
      ],
      "metadata": {
        "id": "reuW14UeiE_X"
      },
      "execution_count": null,
      "outputs": []
    },
    {
      "cell_type": "code",
      "source": [
        "normalize_dataframe(data_teste)"
      ],
      "metadata": {
        "id": "XvYRDV1Rbw2R",
        "colab": {
          "base_uri": "https://localhost:8080/"
        },
        "outputId": "99afdf38-9733-4434-a2b0-913b341cfd2b"
      },
      "execution_count": null,
      "outputs": [
        {
          "output_type": "stream",
          "name": "stderr",
          "text": [
            "<ipython-input-13-629f5b553942>:5: SettingWithCopyWarning: \n",
            "A value is trying to be set on a copy of a slice from a DataFrame.\n",
            "Try using .loc[row_indexer,col_indexer] = value instead\n",
            "\n",
            "See the caveats in the documentation: https://pandas.pydata.org/pandas-docs/stable/user_guide/indexing.html#returning-a-view-versus-a-copy\n",
            "  df[coluna] = df[coluna] / max_valor  # Divide todos os valores da coluna pelo máximo\n"
          ]
        }
      ]
    },
    {
      "cell_type": "code",
      "source": [
        "y_pred_teste = clf.predict(data_teste)\n",
        "\n",
        "accuracy = accuracy_score(labels_encoded_teste, y_pred_teste)\n",
        "print(f'Accuracy on Test Set: {accuracy}')"
      ],
      "metadata": {
        "colab": {
          "base_uri": "https://localhost:8080/"
        },
        "id": "IeNnfuQVgU0P",
        "outputId": "5a98d29d-6490-46d2-d2fb-07f351bf9831"
      },
      "execution_count": null,
      "outputs": [
        {
          "output_type": "stream",
          "name": "stdout",
          "text": [
            "Accuracy on Test Set: 0.849682\n"
          ]
        }
      ]
    },
    {
      "cell_type": "code",
      "source": [
        "conf_matrix_teste = confusion_matrix(y_pred_teste, labels_encoded_teste,)\n",
        "\n",
        "print(\"Matriz de Confusão:\")\n",
        "print(conf_matrix)\n",
        "\n",
        "plt.figure(figsize=(8, 6))\n",
        "sns.heatmap(conf_matrix_teste, annot=True, fmt='d', cmap='Blues', cbar=False,\n",
        "            xticklabels=label_encoder.classes_, yticklabels=label_encoder.classes_)\n",
        "plt.xlabel('Predito')\n",
        "plt.ylabel('Real')\n",
        "plt.title('Matriz de Confusão')\n",
        "plt.show()"
      ],
      "metadata": {
        "colab": {
          "base_uri": "https://localhost:8080/",
          "height": 703
        },
        "id": "XKrSkT1phOyM",
        "outputId": "2aed51f7-4f35-4627-b7e6-10418f5b99b3"
      },
      "execution_count": null,
      "outputs": [
        {
          "output_type": "stream",
          "name": "stdout",
          "text": [
            "Matriz de Confusão:\n",
            "[[ 5778     0     0     1     0     2     0]\n",
            " [    0 19921    13     1     0     0     0]\n",
            " [    0     5 19968     0     4     0   116]\n",
            " [    0     1     1  9932 10062     2     0]\n",
            " [    0     1     2  2120 17964     5     1]\n",
            " [    0     0     1     0     5 19813    10]\n",
            " [    0     0   238     0     1    10 19738]]\n"
          ]
        },
        {
          "output_type": "display_data",
          "data": {
            "text/plain": [
              "<Figure size 800x600 with 1 Axes>"
            ],
            "image/png": "[encoded data removed]"
          },
          "metadata": {}
        }
      ]
    },
    {
      "cell_type": "code",
      "source": [
        "unique_values, counts = np.unique(y_pred_teste, return_counts=True)\n",
        "\n",
        "print(unique_values)\n",
        "print(counts)"
      ],
      "metadata": {
        "colab": {
          "base_uri": "https://localhost:8080/"
        },
        "id": "84fkZ7JcHiRU",
        "outputId": "e9517297-4920-45ef-94ef-68ccf5e4a53b"
      },
      "execution_count": null,
      "outputs": [
        {
          "output_type": "stream",
          "name": "stdout",
          "text": [
            "[0 1 2 3 4 5 6]\n",
            "[  7519   9875 119344  58772 136109 100360  68021]\n"
          ]
        }
      ]
    },
    {
      "cell_type": "code",
      "source": [
        "unique_values, counts = np.unique(y_pred_teste, return_counts=True)\n",
        "\n",
        "contagem_por_classe = dict(zip(unique_values, counts))\n",
        "\n",
        "porcentagem_por_classe = {classe: (conf_matrix_teste[i, i] / contagem_por_classe[classe]) * 100\n",
        "                           for i, classe in enumerate(unique_values)}\n",
        "\n",
        "print(\"Porcentagem de acertos por classe:\")\n",
        "print(porcentagem_por_classe)"
      ],
      "metadata": {
        "colab": {
          "base_uri": "https://localhost:8080/"
        },
        "id": "g0BY3BsryBoX",
        "outputId": "eb6fd52d-80e3-401e-c6bb-7482e57102c4"
      },
      "execution_count": null,
      "outputs": [
        {
          "output_type": "stream",
          "name": "stdout",
          "text": [
            "Porcentagem de acertos por classe:\n",
            "{0: 91.38183269051736, 1: 98.95696202531646, 2: 94.69349108459579, 3: 78.17498128360444, 4: 60.08052369791857, 5: 99.53068951773615, 6: 99.34873053909821}\n"
          ]
        }
      ]
    },
    {
      "cell_type": "markdown",
      "source": [
        "#importancia features"
      ],
      "metadata": {
        "id": "O7S91JRWmjDW"
      }
    },
    {
      "cell_type": "code",
      "source": [
        "perm_importance = permutation_importance(clf, data, labels_encoded)\n",
        "\n",
        "print(\"Importância das features:\")\n",
        "for i in range(data.shape[1]):\n",
        "    print(f\"Feature {i}: {perm_importance.importances_mean[i]}\")"
      ],
      "metadata": {
        "colab": {
          "base_uri": "https://localhost:8080/"
        },
        "id": "dsz1r0m1mmKi",
        "outputId": "96d3c1ba-7a35-4d38-9046-0d1f4b8a07c5"
      },
      "execution_count": 9,
      "outputs": [
        {
          "output_type": "stream",
          "name": "stdout",
          "text": [
            "Importância das features:\n",
            "Feature 0: 0.27209852110166477\n",
            "Feature 1: 0.012807997760016333\n",
            "Feature 2: 0.00010245380033602203\n",
            "Feature 3: 0.001772896197118623\n",
            "Feature 4: 0.029983009214478495\n",
            "Feature 5: 0.001003538156086181\n",
            "Feature 6: 0.06369730947411296\n",
            "Feature 7: 0.019051634169933364\n",
            "Feature 8: 0.015987247365473745\n",
            "Feature 9: 0.008417438782263443\n",
            "Feature 10: 0.001836850277452573\n",
            "Feature 11: 0.0008565392251693282\n",
            "Feature 12: 0.00010818103141072566\n",
            "Feature 13: 0.0009093570228580594\n",
            "Feature 14: 0.0013710354833783357\n",
            "Feature 15: 0.0005972229292878107\n",
            "Feature 16: 0.0013522628926335711\n",
            "Feature 17: 0.00022940742249151215\n",
            "Feature 18: 0.0013815354070152441\n",
            "Feature 19: 4.263605355603328e-05\n",
            "Feature 20: 0.02544608766481702\n",
            "Feature 21: 0.001392035330652175\n",
            "Feature 22: 0.00043208776663445915\n",
            "Feature 23: 0.04471058392302605\n",
            "Feature 24: 0.13283898844372047\n",
            "Feature 25: 0.09453431247772748\n",
            "Feature 26: 4.772692562238223e-05\n",
            "Feature 27: 7.190856793772848e-05\n",
            "Feature 28: 0.0002399073461284207\n",
            "Feature 29: 0.02283128849972007\n",
            "Feature 30: 0.0268572137657181\n",
            "Feature 31: 4.136333553983463e-06\n",
            "Feature 32: 0.023665873339103038\n",
            "Feature 33: 0.0003429975054727308\n",
            "Feature 34: 0.041601015628977264\n"
          ]
        }
      ]
    },
    {
      "cell_type": "code",
      "source": [
        "# Lista as colunas presentes no DataFrame\n",
        "colunas = data.columns\n",
        "\n",
        "# Exibe as colunas\n",
        "print(\"Colunas no DataFrame:\")\n",
        "print(colunas)"
      ],
      "metadata": {
        "colab": {
          "base_uri": "https://localhost:8080/"
        },
        "id": "W7QkoH9b2jJB",
        "outputId": "729a617f-d04e-411d-fdc1-428fa42f3eb3"
      },
      "execution_count": 10,
      "outputs": [
        {
          "output_type": "stream",
          "name": "stdout",
          "text": [
            "Colunas no DataFrame:\n",
            "Index([' Source Port', ' Destination Port', ' Protocol', ' Flow Duration',\n",
            "       'Total Length of Fwd Packets', ' Total Length of Bwd Packets',\n",
            "       ' Fwd Packet Length Max', ' Fwd Packet Length Min',\n",
            "       ' Fwd Packet Length Mean', ' Fwd Packet Length Std', 'Flow Bytes/s',\n",
            "       ' Flow IAT Mean', ' Flow IAT Max', ' Flow IAT Min', 'Fwd IAT Total',\n",
            "       ' Fwd IAT Mean', ' Fwd IAT Std', ' Fwd IAT Max', ' Fwd IAT Min',\n",
            "       'Bwd IAT Total', ' Fwd Header Length', 'Fwd Packets/s',\n",
            "       ' Bwd Packets/s', ' Min Packet Length', ' Max Packet Length',\n",
            "       ' Packet Length Mean', ' SYN Flag Count', ' ACK Flag Count',\n",
            "       ' URG Flag Count', ' Average Packet Size', 'Init_Win_bytes_forward',\n",
            "       ' Init_Win_bytes_backward', ' min_seg_size_forward', ' Idle Min',\n",
            "       ' Inbound'],\n",
            "      dtype='object')\n"
          ]
        }
      ]
    }
  ]
}